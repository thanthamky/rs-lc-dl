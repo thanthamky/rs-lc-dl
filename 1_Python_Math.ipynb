{
 "cells": [
  {
   "cell_type": "markdown",
   "metadata": {},
   "source": [
    "<h1 style=\"text-align:center;\">Workshop Training</h1> \n",
    "\n",
    "<h2 style=\"text-align:center;\">LULC Analysis and Classification using Remote Sensing Data with Machine Learning Approach</h2> \n",
    "\n",
    "### Section 1: Python CrashCourse\n",
    "\n",
    "Run first python code by press Shift+Enter"
   ]
  },
  {
   "cell_type": "code",
   "execution_count": 2,
   "metadata": {},
   "outputs": [
    {
     "name": "stdout",
     "output_type": "stream",
     "text": [
      "First Python Run!!\n"
     ]
    }
   ],
   "source": [
    "print(\"First Python Run!!\")"
   ]
  },
  {
   "cell_type": "markdown",
   "metadata": {},
   "source": [
    "We can document the code to explain what the code does and explain some theory about the code"
   ]
  },
  {
   "cell_type": "markdown",
   "metadata": {},
   "source": [
    "__Double Click Me!!__ \n",
    "\n",
    "Try to Write Markdown Here\n",
    "\n",
    "You can write _Italic_, __bold__, <span style=\"color:blue\">*Colored*</span>.\n",
    "\n",
    "Markdown text describing something including ภาษาไทย\n",
    "\n",
    "# Defining Heading 1\n",
    "## Defining Heading 2\n",
    "### Defining Heading 3\n",
    "\n",
    "- List 1\n",
    "- List 2\n",
    "  - List 2.1\n",
    "\n",
    "\n",
    "Write somthing here..."
   ]
  },
  {
   "cell_type": "markdown",
   "metadata": {},
   "source": [
    "Latest cell ran single text string to show in output. Now, declare a variable to store some text inside and print it using variable names."
   ]
  },
  {
   "cell_type": "code",
   "execution_count": null,
   "metadata": {},
   "outputs": [
    {
     "name": "stdout",
     "output_type": "stream",
     "text": [
      "This is a string data\n",
      "This is another string data\n",
      "345\n"
     ]
    }
   ],
   "source": [
    "print(\"This is a string data\") # print simple string\n",
    "\n",
    "some_string = \"This is another string data\" # store text in variable\n",
    "some_number = 345 # store number in variable\n",
    "\n",
    "print(some_string) # print data in string variable\n",
    "\n",
    "print(some_number) # print data in number variable"
   ]
  },
  {
   "cell_type": "markdown",
   "metadata": {},
   "source": [
    "To print out message including mixing text and number, there are several ways"
   ]
  },
  {
   "cell_type": "code",
   "execution_count": null,
   "metadata": {},
   "outputs": [
    {
     "name": "stdout",
     "output_type": "stream",
     "text": [
      "This is a string data and another string data\n",
      "Print by normal message 345 This is another string data\n",
      "Print by format string message 345 with 345\n"
     ]
    }
   ],
   "source": [
    "print(\"This is a string data\" + \" and another string data\") # concat string by +\n",
    "\n",
    "print(\"Print by normal message\", some_number, some_string) # concat message by comma -> x,y,z,..\n",
    "\n",
    "print(f\"Print by format string message {some_number} with {some_number}\") # format printting using {x} to show data in blacket placement\n"
   ]
  },
  {
   "cell_type": "markdown",
   "metadata": {},
   "source": [
    "Explore some simple programmatically math calculations to explore __Arithmetic Operation__"
   ]
  },
  {
   "cell_type": "code",
   "execution_count": 20,
   "metadata": {},
   "outputs": [
    {
     "name": "stdout",
     "output_type": "stream",
     "text": [
      "General Operator\n",
      "5\n",
      "4\n",
      "20\n",
      "4.5\n",
      "\n",
      "Additional Operator\n",
      "3\n",
      "1\n",
      "16\n"
     ]
    }
   ],
   "source": [
    "print('General Operator')\n",
    "\n",
    "# General Arithmetic Operators\n",
    "print(2+3) # Add\n",
    "print(5-1) # Subtract\n",
    "print(5*4) # Multiply\n",
    "print(18/4) # Divide\n",
    "\n",
    "print('\\nAdditional Operator')\n",
    "\n",
    "# Addditional Arithmetic Operators\n",
    "print(10//3) # Floor division\n",
    "print(10%3) # Modulus\n",
    "print(4**2) # Expotentiation (Power)"
   ]
  },
  {
   "cell_type": "markdown",
   "metadata": {},
   "source": [
    "Do some math calculation using those arithmetic operators"
   ]
  },
  {
   "cell_type": "code",
   "execution_count": null,
   "metadata": {},
   "outputs": [
    {
     "name": "stdout",
     "output_type": "stream",
     "text": [
      "The y is: 16\n"
     ]
    }
   ],
   "source": [
    "# Learn Variables by Linear Algebra\n",
    "\n",
    "# y = mx+c\n",
    "\n",
    "m = 3\n",
    "x = 5\n",
    "c = 1\n",
    "\n",
    "y = m * x +c\n",
    "\n",
    "print(f\"The y is: {y}\")"
   ]
  },
  {
   "cell_type": "markdown",
   "metadata": {},
   "source": [
    "You may know what Fx (Function) in math. Now, try to create a function doing calculation that equation. We do same way as declaring a variable and put the formula like\n",
    "\n",
    "$$\n",
    "  f(x) = 5x + 7\n",
    "$$\n",
    "\n",
    "explore how to write Latex formula at <a href=\"https://bearnok.com/grva/en/knowledge/software/mathjax\">MathJax</a>"
   ]
  },
  {
   "cell_type": "code",
   "execution_count": 26,
   "metadata": {},
   "outputs": [],
   "source": [
    "def fx(x):\n",
    "    \n",
    "    m = 5\n",
    "    c = 7\n",
    "    \n",
    "    return m*x + c"
   ]
  },
  {
   "cell_type": "markdown",
   "metadata": {},
   "source": [
    "Since we declare function name as __fx__ we can call `fx()` and put some number for calculation inside `()`"
   ]
  },
  {
   "cell_type": "code",
   "execution_count": 27,
   "metadata": {},
   "outputs": [
    {
     "data": {
      "text/plain": [
       "32"
      ]
     },
     "execution_count": 27,
     "metadata": {},
     "output_type": "execute_result"
    }
   ],
   "source": [
    "fx(5)"
   ]
  },
  {
   "cell_type": "markdown",
   "metadata": {},
   "source": [
    "One calling can result only an output. To calculate many numbers, we can declare multiple numbers in `[]` we call __List__. each item seperated by comma `,`\n",
    "\n",
    "<br>\n",
    "\n",
    "To access number in List, it arrange the index from 0 - n (item members)"
   ]
  },
  {
   "cell_type": "code",
   "execution_count": 28,
   "metadata": {},
   "outputs": [
    {
     "name": "stdout",
     "output_type": "stream",
     "text": [
      "Value in X at index 3 is 7\n"
     ]
    }
   ],
   "source": [
    "# Learn List by fx\n",
    "\n",
    "#idx[0,1,2,3,4,5]\n",
    "X = [2,4,6,7,8,9]\n",
    "\n",
    "call_index = 3 # in list, index 3 is 7\n",
    "\n",
    "print(f\"Value in X at index {call_index} is {X[call_index]}\")"
   ]
  },
  {
   "cell_type": "markdown",
   "metadata": {},
   "source": [
    "On order to calculate outputs using `fx` function for all items in List, we can use `for ... in ... :` for looping each item in a list\n",
    "\n",
    "Additionally, we can declare empty List `Y` to store each output of each item."
   ]
  },
  {
   "cell_type": "code",
   "execution_count": null,
   "metadata": {},
   "outputs": [
    {
     "name": "stdout",
     "output_type": "stream",
     "text": [
      "Result list: [17, 27, 37, 42, 47, 52]\n"
     ]
    }
   ],
   "source": [
    "Y = [] # create empty list\n",
    "\n",
    "for each_x in X: # loop over each item\n",
    "    \n",
    "    y = fx(each_x) # calculate item output as y\n",
    "    \n",
    "    Y.append(y) # add this output in Y List\n",
    "    \n",
    "print(f\"Result list: {Y}\") # Print Y List"
   ]
  },
  {
   "cell_type": "markdown",
   "metadata": {},
   "source": [
    "For more information, python can do inline for loop that declare `[funcx(item) for item in list]`. It result list of outputs from `fx` function within a list variable"
   ]
  },
  {
   "cell_type": "code",
   "execution_count": 30,
   "metadata": {},
   "outputs": [
    {
     "data": {
      "text/plain": [
       "[17, 27, 37, 42, 47, 52]"
      ]
     },
     "execution_count": 30,
     "metadata": {},
     "output_type": "execute_result"
    }
   ],
   "source": [
    "[fx(x) for x in X]"
   ]
  },
  {
   "cell_type": "markdown",
   "metadata": {},
   "source": [
    "Then, suppose we want to keep only even number in the result. we can add `if ... else...` statement to control the flow"
   ]
  },
  {
   "cell_type": "code",
   "execution_count": 45,
   "metadata": {},
   "outputs": [
    {
     "name": "stdout",
     "output_type": "stream",
     "text": [
      "Result list: [17, 27, 37, 47]\n"
     ]
    }
   ],
   "source": [
    "Y = [] # create empty list\n",
    "\n",
    "for each_x in X: # loop over each item\n",
    "    \n",
    "    y = fx(each_x) # calculate item output as y\n",
    "    \n",
    "    if y % 2 == 0: # check that y is modulus 2 not equal to 0 (is even)\n",
    "        continue # if yes, skip this for loop item -> go to next item\n",
    "    else: # if not even number\n",
    "        Y.append(y) # add this output in Y List\n",
    "    \n",
    "print(f\"Result list: {Y}\") # Print Y List"
   ]
  },
  {
   "cell_type": "markdown",
   "metadata": {},
   "source": [
    "Suppose we have more functions to do calculations, we can put the funtion calling in another fuinction calling. For example, declare another function named `gx`"
   ]
  },
  {
   "cell_type": "code",
   "execution_count": 49,
   "metadata": {},
   "outputs": [],
   "source": [
    "def gx(x):\n",
    "    \n",
    "    m = 2\n",
    "    c = 11\n",
    "    \n",
    "    return m*x + c"
   ]
  },
  {
   "cell_type": "markdown",
   "metadata": {},
   "source": [
    "Normally, we call `fx` to calculate a number. This time we will call `gx` over `fx` again to let `gx` use the result from `fx` as an input"
   ]
  },
  {
   "cell_type": "code",
   "execution_count": 51,
   "metadata": {},
   "outputs": [
    {
     "data": {
      "text/plain": [
       "55"
      ]
     },
     "execution_count": 51,
     "metadata": {},
     "output_type": "execute_result"
    }
   ],
   "source": [
    "gx(fx(3))"
   ]
  },
  {
   "cell_type": "markdown",
   "metadata": {},
   "source": [
    "which equal to this math explanation\n",
    "\n",
    "$$\n",
    "fx(x) = 5x + 7\n",
    "$$\n",
    "\n",
    "$$\n",
    "22 = 5(3) + 7\n",
    "$$\n",
    "\n",
    "Then\n",
    "\n",
    "$$\n",
    "gx(x) = 2x + 11\n",
    "$$\n",
    "\n",
    "$$\n",
    "55 = 2(22) + 11\n",
    "$$\n"
   ]
  },
  {
   "cell_type": "markdown",
   "metadata": {},
   "source": []
  },
  {
   "cell_type": "code",
   "execution_count": 38,
   "metadata": {},
   "outputs": [
    {
     "ename": "NameError",
     "evalue": "name 'gx' is not defined",
     "output_type": "error",
     "traceback": [
      "\u001b[0;31m---------------------------------------------------------------------------\u001b[0m",
      "\u001b[0;31mNameError\u001b[0m                                 Traceback (most recent call last)",
      "Cell \u001b[0;32mIn[38], line 3\u001b[0m\n\u001b[1;32m      1\u001b[0m \u001b[38;5;66;03m# Other tuple variables\u001b[39;00m\n\u001b[0;32m----> 3\u001b[0m some_tuple \u001b[38;5;241m=\u001b[39m (\u001b[38;5;241m99\u001b[39m, \u001b[43mgx\u001b[49m(\u001b[38;5;241m2\u001b[39m), fx, \u001b[38;5;124m\"\u001b[39m\u001b[38;5;124mstring in tuple\u001b[39m\u001b[38;5;124m\"\u001b[39m)\n",
      "\u001b[0;31mNameError\u001b[0m: name 'gx' is not defined"
     ]
    }
   ],
   "source": [
    "# Other tuple variables\n",
    "\n",
    "some_tuple = (99, gx(2), fx, \"string in tuple\")"
   ]
  },
  {
   "cell_type": "code",
   "execution_count": 63,
   "metadata": {},
   "outputs": [
    {
     "name": "stdout",
     "output_type": "stream",
     "text": [
      "99\n",
      "15\n",
      "<function fx at 0x112d370a0>\n",
      "string in tuple\n"
     ]
    }
   ],
   "source": [
    "print(some_tuple[0])\n",
    "print(some_tuple[1])\n",
    "print(some_tuple[2])\n",
    "print(some_tuple[3])"
   ]
  },
  {
   "cell_type": "code",
   "execution_count": 39,
   "metadata": {},
   "outputs": [
    {
     "name": "stdout",
     "output_type": "stream",
     "text": [
      "value1\n"
     ]
    },
    {
     "ename": "KeyError",
     "evalue": "'key2'",
     "output_type": "error",
     "traceback": [
      "\u001b[0;31m---------------------------------------------------------------------------\u001b[0m",
      "\u001b[0;31mKeyError\u001b[0m                                  Traceback (most recent call last)",
      "Cell \u001b[0;32mIn[39], line 7\u001b[0m\n\u001b[1;32m      1\u001b[0m some_dict \u001b[38;5;241m=\u001b[39m {\u001b[38;5;124m\"\u001b[39m\u001b[38;5;124mkey1\u001b[39m\u001b[38;5;124m\"\u001b[39m: \u001b[38;5;124m\"\u001b[39m\u001b[38;5;124mvalue1\u001b[39m\u001b[38;5;124m\"\u001b[39m,\n\u001b[1;32m      2\u001b[0m              \u001b[38;5;124m\"\u001b[39m\u001b[38;5;124mrandom_number\u001b[39m\u001b[38;5;124m\"\u001b[39m: \u001b[38;5;241m77\u001b[39m,\n\u001b[1;32m      3\u001b[0m              \u001b[38;5;241m101\u001b[39m: \u001b[38;5;124m\"\u001b[39m\u001b[38;5;124mRoi-Et\u001b[39m\u001b[38;5;124m\"\u001b[39m}\n\u001b[1;32m      6\u001b[0m \u001b[38;5;28mprint\u001b[39m(some_dict[\u001b[38;5;124m'\u001b[39m\u001b[38;5;124mkey1\u001b[39m\u001b[38;5;124m'\u001b[39m])\n\u001b[0;32m----> 7\u001b[0m \u001b[38;5;28mprint\u001b[39m(\u001b[43msome_dict\u001b[49m\u001b[43m[\u001b[49m\u001b[38;5;124;43m'\u001b[39;49m\u001b[38;5;124;43mkey2\u001b[39;49m\u001b[38;5;124;43m'\u001b[39;49m\u001b[43m]\u001b[49m)\n\u001b[1;32m      8\u001b[0m \u001b[38;5;28mprint\u001b[39m(some_dict[\u001b[38;5;241m101\u001b[39m])\n",
      "\u001b[0;31mKeyError\u001b[0m: 'key2'"
     ]
    }
   ],
   "source": [
    "some_dict = {\"key1\": \"value1\",\n",
    "             \"random_number\": 77,\n",
    "             101: \"Roi-Et\"}\n",
    "\n",
    "\n",
    "print(some_dict['key1'])\n",
    "print(some_dict['key2'])\n",
    "print(some_dict[101])"
   ]
  },
  {
   "cell_type": "code",
   "execution_count": 40,
   "metadata": {},
   "outputs": [],
   "source": [
    "# Energy conservation rule\n",
    "\n",
    "#energy = 1/2*mv^2 + mgh\n",
    "\n",
    "m = 20 # kg\n",
    "v = 5 # m/sec\n",
    "g = 9.8 # m/v/v\n",
    "h = 7 # m\n",
    "\n",
    "# energy? "
   ]
  },
  {
   "cell_type": "code",
   "execution_count": 52,
   "metadata": {},
   "outputs": [
    {
     "ename": "SyntaxError",
     "evalue": "invalid syntax (978393171.py, line 1)",
     "output_type": "error",
     "traceback": [
      "\u001b[0;36m  Cell \u001b[0;32mIn[52], line 1\u001b[0;36m\u001b[0m\n\u001b[0;31m    def calc_energy(???):\u001b[0m\n\u001b[0m                    ^\u001b[0m\n\u001b[0;31mSyntaxError\u001b[0m\u001b[0;31m:\u001b[0m invalid syntax\n"
     ]
    }
   ],
   "source": [
    "def calc_energy(???):\n",
    "    \n",
    "    ...\n",
    "    \n",
    "    return ???\n"
   ]
  },
  {
   "cell_type": "code",
   "execution_count": 53,
   "metadata": {},
   "outputs": [
    {
     "ename": "SyntaxError",
     "evalue": "f-string: invalid syntax (1096267716.py, line 1)",
     "output_type": "error",
     "traceback": [
      "\u001b[0;36m  Cell \u001b[0;32mIn[53], line 1\u001b[0;36m\u001b[0m\n\u001b[0;31m    print(f'Energy is: {calc_energy(???)} KJ')\u001b[0m\n\u001b[0m                 ^\u001b[0m\n\u001b[0;31mSyntaxError\u001b[0m\u001b[0;31m:\u001b[0m f-string: invalid syntax\n"
     ]
    }
   ],
   "source": [
    "print(f'Energy is: {calc_energy(???)} KJ')"
   ]
  },
  {
   "cell_type": "code",
   "execution_count": null,
   "metadata": {},
   "outputs": [],
   "source": []
  },
  {
   "cell_type": "code",
   "execution_count": 41,
   "metadata": {},
   "outputs": [],
   "source": [
    "countries = ['Thailand', 'England', 'USA', 'Japan']"
   ]
  },
  {
   "cell_type": "code",
   "execution_count": 42,
   "metadata": {},
   "outputs": [
    {
     "name": "stdout",
     "output_type": "stream",
     "text": [
      "Thailand\n",
      "England\n",
      "USA\n",
      "Japan\n"
     ]
    }
   ],
   "source": [
    "for country in countries:\n",
    "    \n",
    "    print(country)"
   ]
  },
  {
   "cell_type": "code",
   "execution_count": 43,
   "metadata": {},
   "outputs": [
    {
     "name": "stdout",
     "output_type": "stream",
     "text": [
      "Thailand is index 0\n",
      "England is index 1\n",
      "USA is index 2\n",
      "Japan is index 3\n"
     ]
    }
   ],
   "source": [
    "for index, country in enumerate(countries):\n",
    "    \n",
    "    print(f'{country} is index {index}')"
   ]
  },
  {
   "cell_type": "code",
   "execution_count": 44,
   "metadata": {},
   "outputs": [],
   "source": [
    "nationalities = ['Thai', 'English', 'American', 'Japanese']"
   ]
  },
  {
   "cell_type": "code",
   "execution_count": 45,
   "metadata": {},
   "outputs": [
    {
     "name": "stdout",
     "output_type": "stream",
     "text": [
      "people in Thailand is Thai\n",
      "people in England is English\n",
      "people in USA is American\n",
      "people in Japan is Japanese\n"
     ]
    }
   ],
   "source": [
    "for country, nationality in zip(countries, nationalities):\n",
    "    \n",
    "    print(f'people in {country} is {nationality}')"
   ]
  },
  {
   "cell_type": "code",
   "execution_count": null,
   "metadata": {},
   "outputs": [],
   "source": []
  },
  {
   "cell_type": "markdown",
   "metadata": {},
   "source": [
    "## Mathematic Calculation in Linear Algebra\n",
    "\n",
    "This helps more understanding about mathematical operations in more easier rather using straight tuple vairable when dealing with multi-dimensional data structures. For example, a dataset can have sample axis, feature axis, time sequence axis in which represent in many dimension of data"
   ]
  },
  {
   "cell_type": "code",
   "execution_count": 8,
   "metadata": {},
   "outputs": [],
   "source": [
    "import numpy as np"
   ]
  },
  {
   "cell_type": "markdown",
   "metadata": {},
   "source": [
    "__Algebra Basic__\n",
    "<br>\n",
    "_scalar_: a single number (e.g. value) <br>\n",
    "_vector_: Sequential 1-D numbers represent direction and length of each feature (e.g. Spectral colors R G B etc.) <br>\n",
    "_matrix_: Tabular-like 2-D numbers represent values of interested object (e.g. sample, count))\n",
    "_tensor_: multi-dimensional number extensing from length and direction such as time and spatial (e.g. time, spatial window) <br>"
   ]
  },
  {
   "cell_type": "code",
   "execution_count": 48,
   "metadata": {},
   "outputs": [],
   "source": [
    "scalar = 7\n",
    "vector = [3, 6, 7]\n",
    "matrix = [[1, 5, 0, 2],\n",
    "          [8, 2, 9, 6],\n",
    "          [7, 6, 3, 4]]"
   ]
  },
  {
   "cell_type": "markdown",
   "metadata": {},
   "source": [
    "Scalar and Vector are simply single value and list of scalar composing more dimension of number. Matrix and 2-D representation of multi-dimensionality that we can represent in readable format.\n",
    "\n",
    "<br>\n",
    "\n",
    "to access the data in matrix, we call `[idx]` after the variable"
   ]
  },
  {
   "cell_type": "code",
   "execution_count": 49,
   "metadata": {},
   "outputs": [
    {
     "data": {
      "text/plain": [
       "5"
      ]
     },
     "execution_count": 49,
     "metadata": {},
     "output_type": "execute_result"
    }
   ],
   "source": [
    "matrix[0][1] # row 0 column 1"
   ]
  },
  {
   "cell_type": "markdown",
   "metadata": {},
   "source": [
    "To know dimension of matrix, use `len(x)` to show length of list"
   ]
  },
  {
   "cell_type": "code",
   "execution_count": 50,
   "metadata": {},
   "outputs": [
    {
     "name": "stdout",
     "output_type": "stream",
     "text": [
      "3\n",
      "4\n"
     ]
    }
   ],
   "source": [
    "print(len(matrix))\n",
    "print(len(matrix[0]))"
   ]
  },
  {
   "cell_type": "markdown",
   "metadata": {},
   "source": [
    "However, It is more difficult to read and guess the dimension of matrix. We employ `numpy` tool to convert to numpy array type variable for more capability"
   ]
  },
  {
   "cell_type": "code",
   "execution_count": 69,
   "metadata": {},
   "outputs": [
    {
     "data": {
      "text/plain": [
       "array([[1, 5, 0, 2],\n",
       "       [8, 2, 9, 6],\n",
       "       [7, 6, 3, 4]])"
      ]
     },
     "execution_count": 69,
     "metadata": {},
     "output_type": "execute_result"
    }
   ],
   "source": [
    "np_matrix = np.asarray(matrix)\n",
    "np_matrix"
   ]
  },
  {
   "cell_type": "markdown",
   "metadata": {},
   "source": [
    "This matrix represents dataset has 3 samples and 4 features\n",
    "\n",
    "|  | f0 | f1 | f2 | f3 |\n",
    "|---|---|---|---|---|\n",
    "| s0 | 1 | 5 | 0 | 2 |\n",
    "| s1 | 8 | 2 | 9 | 6 |\n",
    "| s2 | 7 | 6 | 3 | 4 |\n",
    "\n",
    "that more easier to access value and shape of data"
   ]
  },
  {
   "cell_type": "code",
   "execution_count": 78,
   "metadata": {},
   "outputs": [
    {
     "name": "stdout",
     "output_type": "stream",
     "text": [
      "value in row 0, colum 3 ->  2\n",
      "shape of matrix -> (3, 4)\n"
     ]
    }
   ],
   "source": [
    "print('value in row 0, colum 3 -> ', np_matrix[0][3])\n",
    "\n",
    "print('shape of matrix ->' , np_matrix.shape)"
   ]
  },
  {
   "cell_type": "markdown",
   "metadata": {},
   "source": [
    "Linear algebra equation\n",
    "\n",
    "$$\n",
    "\n",
    "y = m*x +c\n",
    "\n",
    "\n",
    "\n",
    "$$\n",
    "\n",
    "extend to\n",
    "\n",
    "$$\n",
    "fx(x) = w_1x_1 + w_2x_2 + w_3x_3 + w_4x_4 + b\n",
    "$$\n",
    "\n",
    "or\n",
    "\n",
    "$$\n",
    "fx(x) = W^TX + b\n",
    "$$"
   ]
  },
  {
   "cell_type": "code",
   "execution_count": 62,
   "metadata": {},
   "outputs": [
    {
     "name": "stdout",
     "output_type": "stream",
     "text": [
      "X matrix: \n",
      " [[1 5 0 2]\n",
      " [8 2 9 6]\n",
      " [7 6 3 4]]\n",
      "\n",
      " Weight vector: \n",
      " [0.5 0.7 1.2 0.9]\n",
      "\n",
      " Bias term: \n",
      " [5]\n"
     ]
    }
   ],
   "source": [
    "X = np_matrix.copy()\n",
    "W = np.array([0.5, 0.7, 1.2, 0.9])\n",
    "b = np.array([5])\n",
    "\n",
    "print('X matrix: \\n',X)\n",
    "print('\\n Weight vector: \\n', W)\n",
    "print('\\n Bias term: \\n',b)"
   ]
  },
  {
   "cell_type": "code",
   "execution_count": 80,
   "metadata": {},
   "outputs": [
    {
     "data": {
      "text/plain": [
       "array([10.8, 26.6, 19.9])"
      ]
     },
     "execution_count": 80,
     "metadata": {},
     "output_type": "execute_result"
    }
   ],
   "source": [
    "y = X @ W + b #  X dot W + b\n",
    "\n",
    "y"
   ]
  },
  {
   "cell_type": "markdown",
   "metadata": {},
   "source": [
    "As mentioned above, output of vectorized operations are results of each row (samples). This is more good in case we have more samples which takes longer computation time than looping over list variables\n",
    "\n",
    "<br><br>\n",
    "\n",
    "Additionally, this is more advanced to create tensor which we could not illustrate in tabular form like previous. For example,"
   ]
  },
  {
   "cell_type": "code",
   "execution_count": 88,
   "metadata": {},
   "outputs": [
    {
     "data": {
      "text/plain": [
       "(3, 5, 6)"
      ]
     },
     "execution_count": 88,
     "metadata": {},
     "output_type": "execute_result"
    }
   ],
   "source": [
    "a = np.random.randint(low=0, high=10, size=(3,5,6))\n",
    "a.shape"
   ]
  },
  {
   "cell_type": "markdown",
   "metadata": {},
   "source": [
    "The shape of `a` tensor has 3-dimension that we have to rely on showing individual matrix instead of show 3D matrix"
   ]
  },
  {
   "cell_type": "code",
   "execution_count": 1,
   "metadata": {},
   "outputs": [
    {
     "ename": "NameError",
     "evalue": "name 'a' is not defined",
     "output_type": "error",
     "traceback": [
      "\u001b[0;31m---------------------------------------------------------------------------\u001b[0m",
      "\u001b[0;31mNameError\u001b[0m                                 Traceback (most recent call last)",
      "Cell \u001b[0;32mIn[1], line 1\u001b[0m\n\u001b[0;32m----> 1\u001b[0m \u001b[38;5;28mprint\u001b[39m(\u001b[43ma\u001b[49m[\u001b[38;5;241m0\u001b[39m], \u001b[38;5;124m'\u001b[39m\u001b[38;5;124m(0, *, *)\u001b[39m\u001b[38;5;124m'\u001b[39m)\n\u001b[1;32m      2\u001b[0m \u001b[38;5;28mprint\u001b[39m(a[\u001b[38;5;241m1\u001b[39m], \u001b[38;5;124m'\u001b[39m\u001b[38;5;124m(1, *, *)\u001b[39m\u001b[38;5;124m'\u001b[39m)\n\u001b[1;32m      3\u001b[0m \u001b[38;5;28mprint\u001b[39m(a[\u001b[38;5;241m2\u001b[39m], \u001b[38;5;124m'\u001b[39m\u001b[38;5;124m(2, *, *)\u001b[39m\u001b[38;5;124m'\u001b[39m)\n",
      "\u001b[0;31mNameError\u001b[0m: name 'a' is not defined"
     ]
    }
   ],
   "source": [
    "print(a[0], '(0, *, *)')\n",
    "print(a[1], '(1, *, *)')\n",
    "print(a[2], '(2, *, *)')"
   ]
  },
  {
   "cell_type": "markdown",
   "metadata": {},
   "source": [
    "This is a nother example show that it allows to have more dimensions of tensor in 4-D shape"
   ]
  },
  {
   "cell_type": "code",
   "execution_count": null,
   "metadata": {},
   "outputs": [
    {
     "data": {
      "text/plain": [
       "(5, 3, 10, 11)"
      ]
     },
     "execution_count": 36,
     "metadata": {},
     "output_type": "execute_result"
    }
   ],
   "source": [
    "x = np.random.rand(5, 3, 10, 11)\n",
    "x.shape"
   ]
  },
  {
   "cell_type": "markdown",
   "metadata": {},
   "source": [
    "Do not forget that as much as dimension created, means more memory and computation power to calculate those"
   ]
  },
  {
   "cell_type": "markdown",
   "metadata": {},
   "source": []
  }
 ],
 "metadata": {
  "kernelspec": {
   "display_name": "ttg-tes",
   "language": "python",
   "name": "python3"
  },
  "language_info": {
   "codemirror_mode": {
    "name": "ipython",
    "version": 3
   },
   "file_extension": ".py",
   "mimetype": "text/x-python",
   "name": "python",
   "nbconvert_exporter": "python",
   "pygments_lexer": "ipython3",
   "version": "3.10.15"
  }
 },
 "nbformat": 4,
 "nbformat_minor": 2
}
