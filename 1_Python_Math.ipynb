{
 "cells": [
  {
   "cell_type": "markdown",
   "metadata": {},
   "source": [
    "<h1 style=\"text-align:center;\">Workshop Training</h1> \n",
    "\n",
    "<h2 style=\"text-align:center;\">LULC Analysis and Classification using Remote Sensing Data with Machine Learning Approach</h2> \n",
    "\n",
    "### Section 1: Python CrashCourse\n",
    "\n",
    "Run first python code by press Shift+Enter"
   ]
  },
  {
   "cell_type": "code",
   "execution_count": 1,
   "metadata": {},
   "outputs": [
    {
     "name": "stdout",
     "output_type": "stream",
     "text": [
      "First Python Run!!\n"
     ]
    }
   ],
   "source": [
    "print(\"First Python Run!!\")"
   ]
  },
  {
   "cell_type": "markdown",
   "metadata": {},
   "source": [
    "We can document the code to explain what the code does and explain some theory about the code"
   ]
  },
  {
   "cell_type": "markdown",
   "metadata": {},
   "source": [
    "__Double Click Me!!__ \n",
    "\n",
    "Try to Write Markdown Here\n",
    "\n",
    "You can write _Italic_, __bold__, <span style=\"color:blue\">*Colored*</span>.\n",
    "\n",
    "Markdown text describing something including ภาษาไทย\n",
    "\n",
    "# Defining Heading 1\n",
    "## Defining Heading 2\n",
    "### Defining Heading 3\n",
    "\n",
    "- List 1\n",
    "- List 2\n",
    "  - List 2.1\n",
    "\n",
    "\n",
    "Write somthing here..."
   ]
  },
  {
   "cell_type": "markdown",
   "metadata": {},
   "source": [
    "Latest cell ran single text string to show in output. Now, declare a variable to store some text inside and print it using variable names."
   ]
  },
  {
   "cell_type": "code",
   "execution_count": 3,
   "metadata": {},
   "outputs": [
    {
     "name": "stdout",
     "output_type": "stream",
     "text": [
      "This is a string data\n",
      "This is another string data\n",
      "345\n"
     ]
    }
   ],
   "source": [
    "print(\"This is a string data\") # print simple string\n",
    "\n",
    "some_string = \"This is another string data\" # store text in variable\n",
    "some_number = 345 # store number in variable\n",
    "\n",
    "print(some_string) # print data in string variable\n",
    "\n",
    "print(some_number) # print data in number variable"
   ]
  },
  {
   "cell_type": "markdown",
   "metadata": {},
   "source": [
    "To print out message including mixing text and number, there are several ways"
   ]
  },
  {
   "cell_type": "code",
   "execution_count": 4,
   "metadata": {},
   "outputs": [
    {
     "name": "stdout",
     "output_type": "stream",
     "text": [
      "This is a string data and another string data\n",
      "Print by normal message 345 This is another string data\n",
      "Print by format string message 345 with 345\n"
     ]
    }
   ],
   "source": [
    "print(\"This is a string data\" + \" and another string data\") # concat string by +\n",
    "\n",
    "print(\"Print by normal message\", some_number, some_string) # concat message by comma -> x,y,z,..\n",
    "\n",
    "print(f\"Print by format string message {some_number} with {some_number}\") # format printting using {x} to show data in blacket placement\n"
   ]
  },
  {
   "cell_type": "markdown",
   "metadata": {},
   "source": [
    "Explore some simple programmatically math calculations to explore __Arithmetic Operation__"
   ]
  },
  {
   "cell_type": "code",
   "execution_count": 5,
   "metadata": {},
   "outputs": [
    {
     "name": "stdout",
     "output_type": "stream",
     "text": [
      "General Operator\n",
      "5\n",
      "4\n",
      "20\n",
      "4.5\n",
      "\n",
      "Additional Operator\n",
      "3\n",
      "1\n",
      "16\n"
     ]
    }
   ],
   "source": [
    "print('General Operator')\n",
    "\n",
    "# General Arithmetic Operators\n",
    "print(2+3) # Add\n",
    "print(5-1) # Subtract\n",
    "print(5*4) # Multiply\n",
    "print(18/4) # Divide\n",
    "\n",
    "print('\\nAdditional Operator')\n",
    "\n",
    "# Addditional Arithmetic Operators\n",
    "print(10//3) # Floor division\n",
    "print(10%3) # Modulus\n",
    "print(4**2) # Expotentiation (Power)"
   ]
  },
  {
   "cell_type": "markdown",
   "metadata": {},
   "source": [
    "Do some math calculation using those arithmetic operators by math equation\n",
    "\n",
    "$$\n",
    " y = f(x)\n",
    "$$\n",
    "\n",
    "$$\n",
    " f(x) = mx +c\n",
    "$$\n",
    "\n",
    "$$\n",
    "y = 3x + 1\n",
    "$$"
   ]
  },
  {
   "cell_type": "code",
   "execution_count": 43,
   "metadata": {},
   "outputs": [
    {
     "name": "stdout",
     "output_type": "stream",
     "text": [
      "The y is: 16\n"
     ]
    }
   ],
   "source": [
    "# Learn Variables by Linear Algebra\n",
    "\n",
    "# y = mx+c\n",
    "\n",
    "m = 3\n",
    "c = 1\n",
    "\n",
    "x = 5\n",
    "\n",
    "y = m * x +c\n",
    "\n",
    "print(f\"The y is: {y}\")"
   ]
  },
  {
   "cell_type": "markdown",
   "metadata": {},
   "source": [
    "You may know what Fx (Function) in math. Now, try to create a function doing calculation that equation. We do same way as declaring a variable and put the formula like\n",
    "\n",
    "$$\n",
    "  f(x) = 5x + 7\n",
    "$$\n",
    "\n",
    "explore how to write Latex formula at <a href=\"https://bearnok.com/grva/en/knowledge/software/mathjax\">MathJax</a>"
   ]
  },
  {
   "cell_type": "code",
   "execution_count": 44,
   "metadata": {},
   "outputs": [],
   "source": [
    "def f(x):\n",
    "    \n",
    "    m = 5\n",
    "    c = 7\n",
    "    \n",
    "    return m*x + c"
   ]
  },
  {
   "cell_type": "markdown",
   "metadata": {},
   "source": [
    "Since we declare function name as __f__ we can call `f()` and put some number for calculation inside `()`"
   ]
  },
  {
   "cell_type": "code",
   "execution_count": 45,
   "metadata": {},
   "outputs": [
    {
     "data": {
      "text/plain": [
       "32"
      ]
     },
     "execution_count": 45,
     "metadata": {},
     "output_type": "execute_result"
    }
   ],
   "source": [
    "f(5)"
   ]
  },
  {
   "cell_type": "markdown",
   "metadata": {},
   "source": [
    "One calling can result only an output. To calculate many numbers, we can declare multiple numbers in `[]` we call __List__. each item seperated by comma `,`\n",
    "\n",
    "<br>\n",
    "\n",
    "To access number in List, it arrange the index from 0 - n (item members)"
   ]
  },
  {
   "cell_type": "code",
   "execution_count": 46,
   "metadata": {},
   "outputs": [
    {
     "name": "stdout",
     "output_type": "stream",
     "text": [
      "Value in X at index 3 is 7\n"
     ]
    }
   ],
   "source": [
    "# Learn List by fx\n",
    "\n",
    "#idx[0,1,2,3,4,5]\n",
    "X = [2,4,6,7,8,9]\n",
    "\n",
    "call_index = 3 # in list, index 3 is 7\n",
    "\n",
    "print(f\"Value in X at index {call_index} is {X[call_index]}\")"
   ]
  },
  {
   "cell_type": "markdown",
   "metadata": {},
   "source": [
    "On order to calculate outputs using `f` function for all items in List, we can use `for ... in ... :` for looping each item in a list\n",
    "\n",
    "Additionally, we can declare empty List `Y` to store each output of each item."
   ]
  },
  {
   "cell_type": "code",
   "execution_count": 47,
   "metadata": {},
   "outputs": [
    {
     "name": "stdout",
     "output_type": "stream",
     "text": [
      "Result list: [17, 27, 37, 42, 47, 52]\n"
     ]
    }
   ],
   "source": [
    "Y = [] # create empty list\n",
    "\n",
    "for each_x in X: # loop over each item\n",
    "    \n",
    "    y = f(each_x) # calculate item output as y\n",
    "    \n",
    "    Y.append(y) # add this output in Y List\n",
    "    \n",
    "print(f\"Result list: {Y}\") # Print Y List"
   ]
  },
  {
   "cell_type": "markdown",
   "metadata": {},
   "source": [
    "For more information, python can do inline for loop that declare `[funcx(item) for item in list]`. It result list of outputs from `fx` function within a list variable"
   ]
  },
  {
   "cell_type": "code",
   "execution_count": 48,
   "metadata": {},
   "outputs": [
    {
     "data": {
      "text/plain": [
       "[17, 27, 37, 42, 47, 52]"
      ]
     },
     "execution_count": 48,
     "metadata": {},
     "output_type": "execute_result"
    }
   ],
   "source": [
    "[f(x) for x in X]"
   ]
  },
  {
   "cell_type": "markdown",
   "metadata": {},
   "source": [
    "Then, suppose we want to keep only even number in the result. we can add `if ... else...` statement to control the flow"
   ]
  },
  {
   "cell_type": "code",
   "execution_count": 49,
   "metadata": {},
   "outputs": [
    {
     "name": "stdout",
     "output_type": "stream",
     "text": [
      "Result list: [17, 27, 37, 47]\n"
     ]
    }
   ],
   "source": [
    "Y = [] # create empty list\n",
    "\n",
    "for each_x in X: # loop over each item\n",
    "    \n",
    "    y = f(each_x) # calculate item output as y\n",
    "    \n",
    "    if y % 2 == 0: # check that y is modulus 2 not equal to 0 (is even)\n",
    "        continue # if yes, skip this for loop item -> go to next item\n",
    "    else: # if not even number\n",
    "        Y.append(y) # add this output in Y List\n",
    "    \n",
    "print(f\"Result list: {Y}\") # Print Y List"
   ]
  },
  {
   "cell_type": "markdown",
   "metadata": {},
   "source": [
    "Suppose we have more functions to do calculations, we can put the funtion calling in another fuinction calling. For example, declare another function named `g`"
   ]
  },
  {
   "cell_type": "code",
   "execution_count": 50,
   "metadata": {},
   "outputs": [],
   "source": [
    "def g(x):\n",
    "    \n",
    "    m = 2\n",
    "    c = 11\n",
    "    \n",
    "    return m*x + c"
   ]
  },
  {
   "cell_type": "markdown",
   "metadata": {},
   "source": [
    "Normally, we call `fx` to calculate a number. This time we will call `g` over `f` again to let `g` use the result from `f` as an input"
   ]
  },
  {
   "cell_type": "code",
   "execution_count": 53,
   "metadata": {},
   "outputs": [
    {
     "data": {
      "text/plain": [
       "55"
      ]
     },
     "execution_count": 53,
     "metadata": {},
     "output_type": "execute_result"
    }
   ],
   "source": [
    "g(f(3))"
   ]
  },
  {
   "cell_type": "markdown",
   "metadata": {},
   "source": [
    "which equal to this math explanation\n",
    "\n",
    "$$\n",
    "f(x) = 5x + 7\n",
    "$$\n",
    "\n",
    "$$\n",
    "22 = 5(3) + 7\n",
    "$$\n",
    "\n",
    "Then\n",
    "\n",
    "$$\n",
    "g(x) = 2x + 11\n",
    "$$\n",
    "\n",
    "$$\n",
    "55 = 2(22) + 11\n",
    "$$\n"
   ]
  },
  {
   "cell_type": "markdown",
   "metadata": {},
   "source": [
    "### Tuple\n",
    "\n",
    "Tuple vairable is like list of vairable items which are immutable (only assign, no change) capsuleted by `()`. Usually used for constant variables decalration"
   ]
  },
  {
   "cell_type": "code",
   "execution_count": 54,
   "metadata": {},
   "outputs": [],
   "source": [
    "# Other tuple variables\n",
    "\n",
    "some_tuple = (99, g(2), f, \"string in tuple\")"
   ]
  },
  {
   "cell_type": "markdown",
   "metadata": {},
   "source": [
    "Access item as well as list"
   ]
  },
  {
   "cell_type": "code",
   "execution_count": 55,
   "metadata": {},
   "outputs": [
    {
     "name": "stdout",
     "output_type": "stream",
     "text": [
      "99\n",
      "15\n",
      "<function f at 0x1199b9870>\n",
      "string in tuple\n"
     ]
    }
   ],
   "source": [
    "print(some_tuple[0])\n",
    "print(some_tuple[1])\n",
    "print(some_tuple[2])\n",
    "print(some_tuple[3])"
   ]
  },
  {
   "cell_type": "markdown",
   "metadata": {},
   "source": [
    "### Dictionary\n",
    "\n",
    "Dictionary is JSON like varable which has _key_ and _value_. We can have nested dictionaries mixed with various types of items, generic, list, tuple, dict even function."
   ]
  },
  {
   "cell_type": "code",
   "execution_count": 64,
   "metadata": {},
   "outputs": [
    {
     "name": "stdout",
     "output_type": "stream",
     "text": [
      "value1\n",
      "77\n",
      "Roi-Et\n"
     ]
    }
   ],
   "source": [
    "some_dict = {\"key1\": \"value1\",\n",
    "             \"random_number\": 77,\n",
    "             101: \"Roi-Et\"}\n",
    "\n",
    "\n",
    "print(some_dict['key1'])\n",
    "print(some_dict['random_number'])\n",
    "print(some_dict[101])"
   ]
  },
  {
   "cell_type": "markdown",
   "metadata": {},
   "source": [
    "## Excercise\n",
    "\n",
    "We familiarize the general python coding and some mathematical operations. Here is an exercise to calculate physics formula by function as fast quiz\n",
    "\n",
    "Given Energy conservation eqaution (Mechanical Energy) from Kinetic Energy and Potential energy\n",
    "\n",
    "$$\n",
    "ME = \\frac{1}{2}mv^2 +mgh\n",
    "$$"
   ]
  },
  {
   "cell_type": "code",
   "execution_count": 67,
   "metadata": {},
   "outputs": [],
   "source": [
    "# Energy conservation rule\n",
    "\n",
    "#energy = 1/2*mv^2 + mgh\n",
    "\n",
    "m = 20 # kg\n",
    "v = 5 # m/sec\n",
    "g = 9.8 # m/v/v\n",
    "h = 7 # m\n",
    "\n",
    "# energy? "
   ]
  },
  {
   "cell_type": "markdown",
   "metadata": {},
   "source": [
    "Make a function"
   ]
  },
  {
   "cell_type": "code",
   "execution_count": null,
   "metadata": {},
   "outputs": [],
   "source": [
    "def calc_energy(???):\n",
    "    \n",
    "    # Code here\n",
    "    \n",
    "    return ???\n"
   ]
  },
  {
   "cell_type": "markdown",
   "metadata": {},
   "source": [
    "Test your function"
   ]
  },
  {
   "cell_type": "code",
   "execution_count": null,
   "metadata": {},
   "outputs": [
    {
     "name": "stdout",
     "output_type": "stream",
     "text": [
      "Energy is: 1622.0 KJ\n"
     ]
    }
   ],
   "source": [
    "# print(f'Energy is: {???} J')"
   ]
  },
  {
   "cell_type": "markdown",
   "metadata": {},
   "source": [
    "## Loop over sequence variables"
   ]
  },
  {
   "cell_type": "code",
   "execution_count": 69,
   "metadata": {},
   "outputs": [],
   "source": [
    "countries = ['Thailand', 'England', 'USA', 'Japan']"
   ]
  },
  {
   "cell_type": "markdown",
   "metadata": {},
   "source": [
    "For loop"
   ]
  },
  {
   "cell_type": "code",
   "execution_count": 70,
   "metadata": {},
   "outputs": [
    {
     "name": "stdout",
     "output_type": "stream",
     "text": [
      "Thailand\n",
      "England\n",
      "USA\n",
      "Japan\n"
     ]
    }
   ],
   "source": [
    "for country in countries:\n",
    "    \n",
    "    print(country)"
   ]
  },
  {
   "cell_type": "markdown",
   "metadata": {},
   "source": [
    "`enumerate` will extract the idx of item with item at a time of generator"
   ]
  },
  {
   "cell_type": "code",
   "execution_count": 77,
   "metadata": {},
   "outputs": [
    {
     "name": "stdout",
     "output_type": "stream",
     "text": [
      "Thailand is index 0\n",
      "England is index 1\n",
      "USA is index 2\n",
      "Japan is index 3\n"
     ]
    }
   ],
   "source": [
    "for index, country in enumerate(countries):\n",
    "    \n",
    "    print(f'{country} is index {index}')"
   ]
  },
  {
   "cell_type": "markdown",
   "metadata": {},
   "source": [
    "Suppose we have another list"
   ]
  },
  {
   "cell_type": "code",
   "execution_count": 78,
   "metadata": {},
   "outputs": [],
   "source": [
    "nationalities = ['Thai', 'English', 'American', 'Japanese']"
   ]
  },
  {
   "cell_type": "markdown",
   "metadata": {},
   "source": [
    "`zip` bundles together the two or more list to extract at a time of generator"
   ]
  },
  {
   "cell_type": "code",
   "execution_count": 79,
   "metadata": {},
   "outputs": [
    {
     "name": "stdout",
     "output_type": "stream",
     "text": [
      "people in Thailand is Thai\n",
      "people in England is English\n",
      "people in USA is American\n",
      "people in Japan is Japanese\n"
     ]
    }
   ],
   "source": [
    "for country, nationality in zip(countries, nationalities):\n",
    "    \n",
    "    print(f'people in {country} is {nationality}')"
   ]
  },
  {
   "cell_type": "markdown",
   "metadata": {},
   "source": [
    "## Mathematic Calculation in Linear Algebra\n",
    "\n",
    "This helps more understanding about mathematical operations in more easier rather using straight tuple vairable when dealing with multi-dimensional data structures. For example, a dataset can have sample axis, feature axis, time sequence axis in which represent in many dimension of data"
   ]
  },
  {
   "cell_type": "code",
   "execution_count": 81,
   "metadata": {},
   "outputs": [],
   "source": [
    "import numpy as np\n",
    "\n",
    "np.set_printoptions(suppress=True, precision=3)"
   ]
  },
  {
   "cell_type": "markdown",
   "metadata": {},
   "source": [
    "__Algebra Basic__\n",
    "<br>\n",
    "- _scalar_: a single number (e.g. value) <br>\n",
    "- _vector_: Sequential 1-D numbers represent direction and length of each feature (e.g. Spectral colors R G B etc.) <br>\n",
    "- _matrix_: Tabular-like 2-D numbers represent values of interested object (e.g. sample, count)) <br>\n",
    "- _tensor_: multi-dimensional number extensing from length and direction such as time and spatial (e.g. time, spatial window) <br>\n",
    "\n",
    "![](https://miro.medium.com/v2/resize:fit:1008/1*tN5uOe_VdzFcNpRcYFeMqQ.jpeg)"
   ]
  },
  {
   "cell_type": "code",
   "execution_count": 82,
   "metadata": {},
   "outputs": [],
   "source": [
    "scalar = 7\n",
    "vector = [3, 6, 7]\n",
    "matrix = [[1, 5, 0, 2],\n",
    "          [8, 2, 9, 6],\n",
    "          [7, 6, 3, 4]]"
   ]
  },
  {
   "cell_type": "markdown",
   "metadata": {},
   "source": [
    "Scalar and Vector are simply single value and list of scalar composing more dimension of number. Matrix and 2-D representation of multi-dimensionality that we can represent in readable format.\n",
    "\n",
    "<br>\n",
    "\n",
    "to access the data in matrix, we call `[idx]` after the variable"
   ]
  },
  {
   "cell_type": "code",
   "execution_count": 84,
   "metadata": {},
   "outputs": [
    {
     "data": {
      "text/plain": [
       "5"
      ]
     },
     "execution_count": 84,
     "metadata": {},
     "output_type": "execute_result"
    }
   ],
   "source": [
    "matrix[0][1] # row 0 column 1"
   ]
  },
  {
   "cell_type": "markdown",
   "metadata": {},
   "source": [
    "To know dimension of matrix, use `len(x)` to show length of list"
   ]
  },
  {
   "cell_type": "code",
   "execution_count": 85,
   "metadata": {},
   "outputs": [
    {
     "name": "stdout",
     "output_type": "stream",
     "text": [
      "3\n",
      "4\n"
     ]
    }
   ],
   "source": [
    "print(len(matrix))\n",
    "print(len(matrix[0]))"
   ]
  },
  {
   "cell_type": "markdown",
   "metadata": {},
   "source": [
    "However, It is more difficult to read and guess the dimension of matrix. We employ `numpy` tool to convert to numpy array type variable for more capability"
   ]
  },
  {
   "cell_type": "code",
   "execution_count": 87,
   "metadata": {},
   "outputs": [
    {
     "data": {
      "text/plain": [
       "array([[1, 5, 0, 2],\n",
       "       [8, 2, 9, 6],\n",
       "       [7, 6, 3, 4]])"
      ]
     },
     "execution_count": 87,
     "metadata": {},
     "output_type": "execute_result"
    }
   ],
   "source": [
    "np_matrix = np.asarray(matrix)\n",
    "np_matrix"
   ]
  },
  {
   "cell_type": "markdown",
   "metadata": {},
   "source": [
    "This matrix represents dataset has 3 samples and 4 features\n",
    "\n",
    "|  | f0 | f1 | f2 | f3 |\n",
    "|---|---|---|---|---|\n",
    "| s0 | 1 | 5 | 0 | 2 |\n",
    "| s1 | 8 | 2 | 9 | 6 |\n",
    "| s2 | 7 | 6 | 3 | 4 |\n",
    "\n",
    "that more easier to access value and shape of data"
   ]
  },
  {
   "cell_type": "code",
   "execution_count": 90,
   "metadata": {},
   "outputs": [
    {
     "name": "stdout",
     "output_type": "stream",
     "text": [
      "value in row 0, colum 3 ->  2\n",
      "shape of matrix -> (3, 4)\n"
     ]
    }
   ],
   "source": [
    "print('value in row 0, colum 3 -> ', np_matrix[0, 3])\n",
    "\n",
    "print('shape of matrix ->' , np_matrix.shape)"
   ]
  },
  {
   "cell_type": "markdown",
   "metadata": {},
   "source": [
    "Linear algebra equation\n",
    "\n",
    "$$\n",
    "\n",
    "y = m*x +c\n",
    "\n",
    "\n",
    "\n",
    "$$\n",
    "\n",
    "extend to\n",
    "\n",
    "$$\n",
    "f(x) = w_1x_1 + w_2x_2 + w_3x_3 + w_4x_4 + w_nx_n + b\n",
    "$$\n",
    "\n",
    "or\n",
    "\n",
    "$$\n",
    "f(x) = W^TX + b\n",
    "$$\n",
    "\n",
    "in ML ways we usally use this to show in hypothesis function\n",
    "\n",
    "$$\n",
    "h_\\theta(x) = \\theta_0 + \\theta_1x\n",
    "$$\n",
    "\n",
    "All are same thing referring to linear algebra\n"
   ]
  },
  {
   "cell_type": "code",
   "execution_count": 94,
   "metadata": {},
   "outputs": [
    {
     "name": "stdout",
     "output_type": "stream",
     "text": [
      "X matrix: \n",
      " [[1 5 0 2]\n",
      " [8 2 9 6]\n",
      " [7 6 3 4]]\n",
      "\n",
      " theta vector: \n",
      " [0.5 0.7 1.2 0.9]\n",
      "\n",
      " bias term: \n",
      " [5]\n"
     ]
    }
   ],
   "source": [
    "X = np_matrix.copy()\n",
    "W = np.array([0.5, 0.7, 1.2, 0.9])\n",
    "b = np.array([5])\n",
    "\n",
    "print('X matrix: \\n',X)\n",
    "print('\\n theta vector: \\n', W)\n",
    "print('\\n bias term: \\n',b)"
   ]
  },
  {
   "cell_type": "markdown",
   "metadata": {},
   "source": [
    "\n",
    "![](https://lh3.googleusercontent.com/ThNU3UAuMF1OBCxP4TkVf5kwrs88bb4ncH1-KQgv69_1Mw_rBfgKYDG1f8XsOWMSRmaapKFMvHFMDAFh1GmlMBw3uA9307Yk8fxMe9s4CriMyqtvrZLoQB1LMAAbQLbDKgY5P3Gt)"
   ]
  },
  {
   "cell_type": "code",
   "execution_count": 95,
   "metadata": {},
   "outputs": [
    {
     "data": {
      "text/plain": [
       "array([10.8, 26.6, 19.9])"
      ]
     },
     "execution_count": 95,
     "metadata": {},
     "output_type": "execute_result"
    }
   ],
   "source": [
    "y = X @ W + b #  X dot W + b, equal to np.matmul(X, W) +b\n",
    "\n",
    "y"
   ]
  },
  {
   "cell_type": "code",
   "execution_count": 98,
   "metadata": {},
   "outputs": [
    {
     "data": {
      "text/plain": [
       "array([10.8, 26.6, 19.9])"
      ]
     },
     "execution_count": 98,
     "metadata": {},
     "output_type": "execute_result"
    }
   ],
   "source": [
    "np.dot(X, W) + b"
   ]
  },
  {
   "cell_type": "code",
   "execution_count": 99,
   "metadata": {},
   "outputs": [
    {
     "data": {
      "text/plain": [
       "array([10.8, 26.6, 19.9])"
      ]
     },
     "execution_count": 99,
     "metadata": {},
     "output_type": "execute_result"
    }
   ],
   "source": [
    "np.matmul(X, W) + b"
   ]
  },
  {
   "cell_type": "markdown",
   "metadata": {},
   "source": [
    "As mentioned above, output of vectorized operations are results of each row (samples). This is more good in case we have more samples which takes longer computation time than looping over list variables\n",
    "\n",
    "<br><br>\n",
    "\n",
    "## Tensor\n",
    "\n",
    "Additionally, this is more advanced to create tensor which we could not illustrate in tabular form like previous. For example,"
   ]
  },
  {
   "cell_type": "code",
   "execution_count": 100,
   "metadata": {},
   "outputs": [
    {
     "data": {
      "text/plain": [
       "(3, 5, 6)"
      ]
     },
     "execution_count": 100,
     "metadata": {},
     "output_type": "execute_result"
    }
   ],
   "source": [
    "a = np.random.randint(low=15000, high=25000, size=(3,5,6))\n",
    "a.shape"
   ]
  },
  {
   "cell_type": "markdown",
   "metadata": {},
   "source": [
    "The shape of `a` tensor has 3-dimension that we have to rely on showing individual matrix instead of show 3D matrix"
   ]
  },
  {
   "cell_type": "code",
   "execution_count": 101,
   "metadata": {},
   "outputs": [
    {
     "name": "stdout",
     "output_type": "stream",
     "text": [
      "[[20633 24846 21433 16924 15155 21577]\n",
      " [20156 22132 23641 19430 23199 20749]\n",
      " [15704 24894 22118 21711 21607 22691]\n",
      " [20722 23413 22484 21306 23846 19572]\n",
      " [17669 16952 24582 18910 24658 17383]] (0, *, *)\n",
      "[[21359 18635 21597 16945 16512 20627]\n",
      " [15900 19489 15062 20093 22919 15065]\n",
      " [16099 21211 23832 17930 21038 21198]\n",
      " [21762 24070 19140 21253 19552 18495]\n",
      " [18360 19664 15361 21788 18041 15563]] (1, *, *)\n",
      "[[16263 18830 16454 18084 17942 17215]\n",
      " [23083 19186 24650 16511 19682 22444]\n",
      " [23534 24539 19771 18930 19688 20876]\n",
      " [22929 24911 22727 17692 16535 23361]\n",
      " [18790 22410 19005 22441 19175 20898]] (2, *, *)\n"
     ]
    }
   ],
   "source": [
    "print(a[0], '(0, *, *)')\n",
    "print(a[1], '(1, *, *)')\n",
    "print(a[2], '(2, *, *)')"
   ]
  },
  {
   "cell_type": "markdown",
   "metadata": {},
   "source": [
    "Suppose above tensor is like satellite image which has 3 bands, 5 height, 6 width. To access a pixel at index 2,2 by every bands we can call"
   ]
  },
  {
   "cell_type": "code",
   "execution_count": 102,
   "metadata": {},
   "outputs": [
    {
     "data": {
      "text/plain": [
       "array([22118, 23832, 19771])"
      ]
     },
     "execution_count": 102,
     "metadata": {},
     "output_type": "execute_result"
    }
   ],
   "source": [
    "a[:, 2, 2]"
   ]
  },
  {
   "cell_type": "markdown",
   "metadata": {},
   "source": [
    "In general calculation of satellite image, we usually use a band-level data calculation. For example band A to calculate reflectance from Digital number of data such as landsat formula\n",
    "\n",
    "$$\n",
    "Reflectance = DN * 0.0000275 - 0.2\n",
    "$$\n",
    "\n",
    "we can make the formula to be a function like"
   ]
  },
  {
   "cell_type": "code",
   "execution_count": 103,
   "metadata": {},
   "outputs": [],
   "source": [
    "def reflectance_calc(x):\n",
    "    \n",
    "    return x * 0.0000275 - 0.2"
   ]
  },
  {
   "cell_type": "markdown",
   "metadata": {},
   "source": [
    "We can write as lambda function as"
   ]
  },
  {
   "cell_type": "code",
   "execution_count": 104,
   "metadata": {},
   "outputs": [],
   "source": [
    "refl_calc = lambda x: x * 0.0000275 - 0.2"
   ]
  },
  {
   "cell_type": "markdown",
   "metadata": {},
   "source": [
    "to implement band-level calculation, pass the band numpy array data to the function\n",
    "\n",
    "![](https://pages.cms.hu-berlin.de/EOL/geo_rs/fig/s00_array_scaling.png)"
   ]
  },
  {
   "cell_type": "code",
   "execution_count": 105,
   "metadata": {},
   "outputs": [
    {
     "data": {
      "text/plain": [
       "array([[0.367, 0.483, 0.389, 0.265, 0.217, 0.393],\n",
       "       [0.354, 0.409, 0.45 , 0.334, 0.438, 0.371],\n",
       "       [0.232, 0.485, 0.408, 0.397, 0.394, 0.424],\n",
       "       [0.37 , 0.444, 0.418, 0.386, 0.456, 0.338],\n",
       "       [0.286, 0.266, 0.476, 0.32 , 0.478, 0.278]])"
      ]
     },
     "execution_count": 105,
     "metadata": {},
     "output_type": "execute_result"
    }
   ],
   "source": [
    "reflectance_calc(a[0])"
   ]
  },
  {
   "cell_type": "markdown",
   "metadata": {},
   "source": [
    "Or use lambda function to calculate reflectance"
   ]
  },
  {
   "cell_type": "code",
   "execution_count": 106,
   "metadata": {},
   "outputs": [
    {
     "data": {
      "text/plain": [
       "array([[0.367, 0.483, 0.389, 0.265, 0.217, 0.393],\n",
       "       [0.354, 0.409, 0.45 , 0.334, 0.438, 0.371],\n",
       "       [0.232, 0.485, 0.408, 0.397, 0.394, 0.424],\n",
       "       [0.37 , 0.444, 0.418, 0.386, 0.456, 0.338],\n",
       "       [0.286, 0.266, 0.476, 0.32 , 0.478, 0.278]])"
      ]
     },
     "execution_count": 106,
     "metadata": {},
     "output_type": "execute_result"
    }
   ],
   "source": [
    "refl_calc(a[0])"
   ]
  },
  {
   "cell_type": "markdown",
   "metadata": {},
   "source": [
    "Same way, suppose there are 2 bands to calculate ND..I like (Normalized Difference)\n",
    "\n"
   ]
  },
  {
   "cell_type": "code",
   "execution_count": 107,
   "metadata": {},
   "outputs": [
    {
     "data": {
      "text/plain": [
       "array([[-0.017,  0.143, -0.004, -0.001, -0.043,  0.023],\n",
       "       [ 0.118,  0.064,  0.222, -0.017,  0.006,  0.159],\n",
       "       [-0.012,  0.08 , -0.037,  0.095,  0.013,  0.034],\n",
       "       [-0.024, -0.014,  0.08 ,  0.001,  0.099,  0.028],\n",
       "       [-0.019, -0.074,  0.231, -0.071,  0.155,  0.055]])"
      ]
     },
     "execution_count": 107,
     "metadata": {},
     "output_type": "execute_result"
    }
   ],
   "source": [
    "(a[0] - a[1]) / (a[0] + a[1])"
   ]
  },
  {
   "cell_type": "markdown",
   "metadata": {},
   "source": [
    "This is a basic of raster calculation using numpy by matrix (or tensor) data math.\n",
    "\n",
    "This actually should be in first part of the workshop, but it is good for learning about what are we doing first. This is essential lesson for remote sensing analysis; Data Type. We works with numeric data, so we could not avoid this to optimize solution for better usage"
   ]
  },
  {
   "cell_type": "code",
   "execution_count": 162,
   "metadata": {},
   "outputs": [
    {
     "name": "stdout",
     "output_type": "stream",
     "text": [
      "Data typr is int64\n",
      "Comsume memmory 720  Bytes\n"
     ]
    }
   ],
   "source": [
    "import sys\n",
    "\n",
    "print(f'Data typr is', a.dtype)\n",
    "print(f'Comsume memmory', a.nbytes, ' Bytes')"
   ]
  },
  {
   "cell_type": "markdown",
   "metadata": {},
   "source": [
    "Why int64?. we use `itemsize` to show size of an item in Bytes. It shows 8 bytes, and each byte has 8-bits. It therefore 8x8 = 64-bits number "
   ]
  },
  {
   "cell_type": "code",
   "execution_count": 163,
   "metadata": {},
   "outputs": [
    {
     "name": "stdout",
     "output_type": "stream",
     "text": [
      " a tensor has memory size in each item 8 bytes which is 64 bits\n"
     ]
    }
   ],
   "source": [
    "item_byte = a.itemsize # 8\n",
    "item_bits = a.itemsize * 8 # 1 byte = 8 bits\n",
    "\n",
    "print(f' a tensor has memory size in each item {item_byte} bytes which is {item_bits} bits')"
   ]
  },
  {
   "cell_type": "markdown",
   "metadata": {},
   "source": [
    "we know that each item is 8 bytes size with 90 items"
   ]
  },
  {
   "cell_type": "code",
   "execution_count": null,
   "metadata": {},
   "outputs": [
    {
     "name": "stdout",
     "output_type": "stream",
     "text": [
      "(3, 5, 6)\n",
      "90\n",
      "a tensor has 90\n"
     ]
    }
   ],
   "source": [
    "print(a.shape)\n",
    "print(3 * 5 * 6)\n",
    "\n",
    "print(f'a tensor has {a.size} items')"
   ]
  },
  {
   "cell_type": "markdown",
   "metadata": {},
   "source": [
    "It takes memory for"
   ]
  },
  {
   "cell_type": "code",
   "execution_count": 139,
   "metadata": {},
   "outputs": [
    {
     "name": "stdout",
     "output_type": "stream",
     "text": [
      "a tensor consume 720 bytes for data\n"
     ]
    }
   ],
   "source": [
    "print(f'a tensor consume {a.size * a.itemsize} bytes for data')"
   ]
  },
  {
   "cell_type": "markdown",
   "metadata": {},
   "source": [
    "Or"
   ]
  },
  {
   "cell_type": "code",
   "execution_count": 140,
   "metadata": {},
   "outputs": [
    {
     "data": {
      "text/plain": [
       "720"
      ]
     },
     "execution_count": 140,
     "metadata": {},
     "output_type": "execute_result"
    }
   ],
   "source": [
    "a.nbytes"
   ]
  },
  {
   "cell_type": "markdown",
   "metadata": {},
   "source": [
    "Nevertheless, actual memory size takes"
   ]
  },
  {
   "cell_type": "code",
   "execution_count": null,
   "metadata": {},
   "outputs": [
    {
     "data": {
      "text/plain": [
       "864"
      ]
     },
     "execution_count": 142,
     "metadata": {},
     "output_type": "execute_result"
    }
   ],
   "source": [
    "a.__sizeof__()"
   ]
  },
  {
   "cell_type": "markdown",
   "metadata": {},
   "source": [
    "This is explanation"
   ]
  },
  {
   "cell_type": "code",
   "execution_count": 147,
   "metadata": {},
   "outputs": [
    {
     "data": {
      "text/plain": [
       "array([[[20633, 24846, 21433, 16924, 15155, 21577],\n",
       "        [20156, 22132, 23641, 19430, 23199, 20749],\n",
       "        [15704, 24894, 22118, 21711, 21607, 22691],\n",
       "        [20722, 23413, 22484, 21306, 23846, 19572],\n",
       "        [17669, 16952, 24582, 18910, 24658, 17383]],\n",
       "\n",
       "       [[21359, 18635, 21597, 16945, 16512, 20627],\n",
       "        [15900, 19489, 15062, 20093, 22919, 15065],\n",
       "        [16099, 21211, 23832, 17930, 21038, 21198],\n",
       "        [21762, 24070, 19140, 21253, 19552, 18495],\n",
       "        [18360, 19664, 15361, 21788, 18041, 15563]],\n",
       "\n",
       "       [[16263, 18830, 16454, 18084, 17942, 17215],\n",
       "        [23083, 19186, 24650, 16511, 19682, 22444],\n",
       "        [23534, 24539, 19771, 18930, 19688, 20876],\n",
       "        [22929, 24911, 22727, 17692, 16535, 23361],\n",
       "        [18790, 22410, 19005, 22441, 19175, 20898]]])"
      ]
     },
     "execution_count": 147,
     "metadata": {},
     "output_type": "execute_result"
    }
   ],
   "source": [
    "a"
   ]
  },
  {
   "cell_type": "markdown",
   "metadata": {},
   "source": [
    "Examine this, we have an array of 6 items, 5 arrays, 3 bands. each of array must have a pointer as reference index to rows and bands. So we need 8 pointers. The thing is each of pointer of `int64` need 8 bytes or 64-bits __Computer OS 64-bits__, then 144 bytes are reserved for those pointers"
   ]
  },
  {
   "cell_type": "code",
   "execution_count": 149,
   "metadata": {},
   "outputs": [
    {
     "data": {
      "text/plain": [
       "144"
      ]
     },
     "execution_count": 149,
     "metadata": {},
     "output_type": "execute_result"
    }
   ],
   "source": [
    "a.__sizeof__() - a.nbytes"
   ]
  },
  {
   "cell_type": "markdown",
   "metadata": {},
   "source": [
    "What are learn from this is data type is important to memory allocation for raster. as large as data type requires more memory even computational resource to store, load, process, and save.\n",
    "\n",
    "We can convert the data type to something like `uint16` which smaller `4X` times"
   ]
  },
  {
   "cell_type": "code",
   "execution_count": 155,
   "metadata": {},
   "outputs": [
    {
     "name": "stdout",
     "output_type": "stream",
     "text": [
      "[[[20633 24846 21433 16924 15155 21577]\n",
      "  [20156 22132 23641 19430 23199 20749]\n",
      "  [15704 24894 22118 21711 21607 22691]\n",
      "  [20722 23413 22484 21306 23846 19572]\n",
      "  [17669 16952 24582 18910 24658 17383]]\n",
      "\n",
      " [[21359 18635 21597 16945 16512 20627]\n",
      "  [15900 19489 15062 20093 22919 15065]\n",
      "  [16099 21211 23832 17930 21038 21198]\n",
      "  [21762 24070 19140 21253 19552 18495]\n",
      "  [18360 19664 15361 21788 18041 15563]]\n",
      "\n",
      " [[16263 18830 16454 18084 17942 17215]\n",
      "  [23083 19186 24650 16511 19682 22444]\n",
      "  [23534 24539 19771 18930 19688 20876]\n",
      "  [22929 24911 22727 17692 16535 23361]\n",
      "  [18790 22410 19005 22441 19175 20898]]]\n",
      "180 324\n"
     ]
    }
   ],
   "source": [
    "a_16 = a.astype(np.uint16)\n",
    "\n",
    "print(a_16)\n",
    "\n",
    "print(a_16.nbytes, a_16.__sizeof__())"
   ]
  },
  {
   "cell_type": "markdown",
   "metadata": {},
   "source": [
    "If we are not be careful, it accidentally assign as `float128`, it takes `2X` memory than `int64`"
   ]
  },
  {
   "cell_type": "code",
   "execution_count": 157,
   "metadata": {},
   "outputs": [
    {
     "name": "stdout",
     "output_type": "stream",
     "text": [
      "[[[20633. 24846. 21433. 16924. 15155. 21577.]\n",
      "  [20156. 22132. 23641. 19430. 23199. 20749.]\n",
      "  [15704. 24894. 22118. 21711. 21607. 22691.]\n",
      "  [20722. 23413. 22484. 21306. 23846. 19572.]\n",
      "  [17669. 16952. 24582. 18910. 24658. 17383.]]\n",
      "\n",
      " [[21359. 18635. 21597. 16945. 16512. 20627.]\n",
      "  [15900. 19489. 15062. 20093. 22919. 15065.]\n",
      "  [16099. 21211. 23832. 17930. 21038. 21198.]\n",
      "  [21762. 24070. 19140. 21253. 19552. 18495.]\n",
      "  [18360. 19664. 15361. 21788. 18041. 15563.]]\n",
      "\n",
      " [[16263. 18830. 16454. 18084. 17942. 17215.]\n",
      "  [23083. 19186. 24650. 16511. 19682. 22444.]\n",
      "  [23534. 24539. 19771. 18930. 19688. 20876.]\n",
      "  [22929. 24911. 22727. 17692. 16535. 23361.]\n",
      "  [18790. 22410. 19005. 22441. 19175. 20898.]]]\n",
      "1440 1584\n"
     ]
    }
   ],
   "source": [
    "a_128 = a.astype(np.float128)\n",
    "\n",
    "print(a_128)\n",
    "\n",
    "print(a_128.nbytes, a_128.__sizeof__())"
   ]
  },
  {
   "cell_type": "code",
   "execution_count": null,
   "metadata": {},
   "outputs": [],
   "source": []
  }
 ],
 "metadata": {
  "kernelspec": {
   "display_name": "ttg-tes",
   "language": "python",
   "name": "python3"
  },
  "language_info": {
   "codemirror_mode": {
    "name": "ipython",
    "version": 3
   },
   "file_extension": ".py",
   "mimetype": "text/x-python",
   "name": "python",
   "nbconvert_exporter": "python",
   "pygments_lexer": "ipython3",
   "version": "3.10.15"
  }
 },
 "nbformat": 4,
 "nbformat_minor": 2
}
