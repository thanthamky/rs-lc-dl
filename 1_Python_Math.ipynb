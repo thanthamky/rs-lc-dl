{
 "cells": [
  {
   "cell_type": "markdown",
   "metadata": {},
   "source": [
    "<h1 style=\"text-align:center;\">Workshop Training</h1> \n",
    "\n",
    "<h2 style=\"text-align:center;\">LULC Analysis and Classification using Remote Sensing Data with Machine Learning Approach</h2> \n",
    "\n",
    "### Section 1: Python CrashCourse\n",
    "\n",
    "Run first python code by press Shift+Enter"
   ]
  },
  {
   "cell_type": "code",
   "execution_count": 1,
   "metadata": {},
   "outputs": [
    {
     "name": "stdout",
     "output_type": "stream",
     "text": [
      "First Python Run!!\n"
     ]
    }
   ],
   "source": [
    "print(\"First Python Run!!\")"
   ]
  },
  {
   "cell_type": "markdown",
   "metadata": {},
   "source": [
    "We can document the code to explain what the code does and explain some theory about the code"
   ]
  },
  {
   "cell_type": "markdown",
   "metadata": {},
   "source": [
    "__Double Click Me!!__ \n",
    "\n",
    "Try to Write Markdown Here\n",
    "\n",
    "You can write _Italic_, __bold__, <span style=\"color:blue\">*Colored*</span>.\n",
    "\n",
    "Markdown text describing something including ภาษาไทย\n",
    "\n",
    "# Defining Heading 1\n",
    "## Defining Heading 2\n",
    "### Defining Heading 3\n",
    "\n",
    "- List 1\n",
    "- List 2\n",
    "  - List 2.1\n",
    "\n",
    "\n",
    "Write somthing here..."
   ]
  },
  {
   "cell_type": "markdown",
   "metadata": {},
   "source": [
    "Latest cell ran single text string to show in output. Now, declare a variable to store some text inside and print it using variable names."
   ]
  },
  {
   "cell_type": "code",
   "execution_count": 3,
   "metadata": {},
   "outputs": [
    {
     "name": "stdout",
     "output_type": "stream",
     "text": [
      "This is a string data\n",
      "This is another string data\n",
      "345\n"
     ]
    }
   ],
   "source": [
    "print(\"This is a string data\") # print simple string\n",
    "\n",
    "some_string = \"This is another string data\" # store text in variable\n",
    "some_number = 345 # store number in variable\n",
    "\n",
    "print(some_string) # print data in string variable\n",
    "\n",
    "print(some_number) # print data in number variable"
   ]
  },
  {
   "cell_type": "markdown",
   "metadata": {},
   "source": [
    "To print out message including mixing text and number, there are several ways"
   ]
  },
  {
   "cell_type": "code",
   "execution_count": 4,
   "metadata": {},
   "outputs": [
    {
     "name": "stdout",
     "output_type": "stream",
     "text": [
      "This is a string data and another string data\n",
      "Print by normal message 345 This is another string data\n",
      "Print by format string message 345 with 345\n"
     ]
    }
   ],
   "source": [
    "print(\"This is a string data\" + \" and another string data\") # concat string by +\n",
    "\n",
    "print(\"Print by normal message\", some_number, some_string) # concat message by comma -> x,y,z,..\n",
    "\n",
    "print(f\"Print by format string message {some_number} with {some_number}\") # format printting using {x} to show data in blacket placement\n"
   ]
  },
  {
   "cell_type": "markdown",
   "metadata": {},
   "source": [
    "Explore some simple programmatically math calculations to explore __Arithmetic Operation__"
   ]
  },
  {
   "cell_type": "code",
   "execution_count": 5,
   "metadata": {},
   "outputs": [
    {
     "name": "stdout",
     "output_type": "stream",
     "text": [
      "General Operator\n",
      "5\n",
      "4\n",
      "20\n",
      "4.5\n",
      "\n",
      "Additional Operator\n",
      "3\n",
      "1\n",
      "16\n"
     ]
    }
   ],
   "source": [
    "print('General Operator')\n",
    "\n",
    "# General Arithmetic Operators\n",
    "print(2+3) # Add\n",
    "print(5-1) # Subtract\n",
    "print(5*4) # Multiply\n",
    "print(18/4) # Divide\n",
    "\n",
    "print('\\nAdditional Operator')\n",
    "\n",
    "# Addditional Arithmetic Operators\n",
    "print(10//3) # Floor division\n",
    "print(10%3) # Modulus\n",
    "print(4**2) # Expotentiation (Power)"
   ]
  },
  {
   "cell_type": "markdown",
   "metadata": {},
   "source": [
    "Do some math calculation using those arithmetic operators"
   ]
  },
  {
   "cell_type": "code",
   "execution_count": 6,
   "metadata": {},
   "outputs": [
    {
     "name": "stdout",
     "output_type": "stream",
     "text": [
      "The y is: 16\n"
     ]
    }
   ],
   "source": [
    "# Learn Variables by Linear Algebra\n",
    "\n",
    "# y = mx+c\n",
    "\n",
    "m = 3\n",
    "x = 5\n",
    "c = 1\n",
    "\n",
    "y = m * x +c\n",
    "\n",
    "print(f\"The y is: {y}\")"
   ]
  },
  {
   "cell_type": "markdown",
   "metadata": {},
   "source": [
    "You may know what Fx (Function) in math. Now, try to create a function doing calculation that equation. We do same way as declaring a variable and put the formula like\n",
    "\n",
    "$$\n",
    "  f(x) = 5x + 7\n",
    "$$\n",
    "\n",
    "explore how to write Latex formula at <a href=\"https://bearnok.com/grva/en/knowledge/software/mathjax\">MathJax</a>"
   ]
  },
  {
   "cell_type": "code",
   "execution_count": 7,
   "metadata": {},
   "outputs": [],
   "source": [
    "def fx(x):\n",
    "    \n",
    "    m = 5\n",
    "    c = 7\n",
    "    \n",
    "    return m*x + c"
   ]
  },
  {
   "cell_type": "markdown",
   "metadata": {},
   "source": [
    "Since we declare function name as __fx__ we can call `fx()` and put some number for calculation inside `()`"
   ]
  },
  {
   "cell_type": "code",
   "execution_count": 8,
   "metadata": {},
   "outputs": [
    {
     "data": {
      "text/plain": [
       "32"
      ]
     },
     "execution_count": 8,
     "metadata": {},
     "output_type": "execute_result"
    }
   ],
   "source": [
    "fx(5)"
   ]
  },
  {
   "cell_type": "markdown",
   "metadata": {},
   "source": [
    "One calling can result only an output. To calculate many numbers, we can declare multiple numbers in `[]` we call __List__. each item seperated by comma `,`\n",
    "\n",
    "<br>\n",
    "\n",
    "To access number in List, it arrange the index from 0 - n (item members)"
   ]
  },
  {
   "cell_type": "code",
   "execution_count": 9,
   "metadata": {},
   "outputs": [
    {
     "name": "stdout",
     "output_type": "stream",
     "text": [
      "Value in X at index 3 is 7\n"
     ]
    }
   ],
   "source": [
    "# Learn List by fx\n",
    "\n",
    "#idx[0,1,2,3,4,5]\n",
    "X = [2,4,6,7,8,9]\n",
    "\n",
    "call_index = 3 # in list, index 3 is 7\n",
    "\n",
    "print(f\"Value in X at index {call_index} is {X[call_index]}\")"
   ]
  },
  {
   "cell_type": "markdown",
   "metadata": {},
   "source": [
    "On order to calculate outputs using `fx` function for all items in List, we can use `for ... in ... :` for looping each item in a list\n",
    "\n",
    "Additionally, we can declare empty List `Y` to store each output of each item."
   ]
  },
  {
   "cell_type": "code",
   "execution_count": 10,
   "metadata": {},
   "outputs": [
    {
     "name": "stdout",
     "output_type": "stream",
     "text": [
      "Result list: [17, 27, 37, 42, 47, 52]\n"
     ]
    }
   ],
   "source": [
    "Y = [] # create empty list\n",
    "\n",
    "for each_x in X: # loop over each item\n",
    "    \n",
    "    y = fx(each_x) # calculate item output as y\n",
    "    \n",
    "    Y.append(y) # add this output in Y List\n",
    "    \n",
    "print(f\"Result list: {Y}\") # Print Y List"
   ]
  },
  {
   "cell_type": "markdown",
   "metadata": {},
   "source": [
    "For more information, python can do inline for loop that declare `[funcx(item) for item in list]`. It result list of outputs from `fx` function within a list variable"
   ]
  },
  {
   "cell_type": "code",
   "execution_count": 11,
   "metadata": {},
   "outputs": [
    {
     "data": {
      "text/plain": [
       "[17, 27, 37, 42, 47, 52]"
      ]
     },
     "execution_count": 11,
     "metadata": {},
     "output_type": "execute_result"
    }
   ],
   "source": [
    "[fx(x) for x in X]"
   ]
  },
  {
   "cell_type": "markdown",
   "metadata": {},
   "source": [
    "Then, suppose we want to keep only even number in the result. we can add `if ... else...` statement to control the flow"
   ]
  },
  {
   "cell_type": "code",
   "execution_count": 12,
   "metadata": {},
   "outputs": [
    {
     "name": "stdout",
     "output_type": "stream",
     "text": [
      "Result list: [17, 27, 37, 47]\n"
     ]
    }
   ],
   "source": [
    "Y = [] # create empty list\n",
    "\n",
    "for each_x in X: # loop over each item\n",
    "    \n",
    "    y = fx(each_x) # calculate item output as y\n",
    "    \n",
    "    if y % 2 == 0: # check that y is modulus 2 not equal to 0 (is even)\n",
    "        continue # if yes, skip this for loop item -> go to next item\n",
    "    else: # if not even number\n",
    "        Y.append(y) # add this output in Y List\n",
    "    \n",
    "print(f\"Result list: {Y}\") # Print Y List"
   ]
  },
  {
   "cell_type": "markdown",
   "metadata": {},
   "source": [
    "Suppose we have more functions to do calculations, we can put the funtion calling in another fuinction calling. For example, declare another function named `gx`"
   ]
  },
  {
   "cell_type": "code",
   "execution_count": 13,
   "metadata": {},
   "outputs": [],
   "source": [
    "def gx(x):\n",
    "    \n",
    "    m = 2\n",
    "    c = 11\n",
    "    \n",
    "    return m*x + c"
   ]
  },
  {
   "cell_type": "markdown",
   "metadata": {},
   "source": [
    "Normally, we call `fx` to calculate a number. This time we will call `gx` over `fx` again to let `gx` use the result from `fx` as an input"
   ]
  },
  {
   "cell_type": "code",
   "execution_count": 14,
   "metadata": {},
   "outputs": [
    {
     "data": {
      "text/plain": [
       "55"
      ]
     },
     "execution_count": 14,
     "metadata": {},
     "output_type": "execute_result"
    }
   ],
   "source": [
    "gx(fx(3))"
   ]
  },
  {
   "cell_type": "markdown",
   "metadata": {},
   "source": [
    "which equal to this math explanation\n",
    "\n",
    "$$\n",
    "fx(x) = 5x + 7\n",
    "$$\n",
    "\n",
    "$$\n",
    "22 = 5(3) + 7\n",
    "$$\n",
    "\n",
    "Then\n",
    "\n",
    "$$\n",
    "gx(x) = 2x + 11\n",
    "$$\n",
    "\n",
    "$$\n",
    "55 = 2(22) + 11\n",
    "$$\n"
   ]
  },
  {
   "cell_type": "markdown",
   "metadata": {},
   "source": []
  },
  {
   "cell_type": "code",
   "execution_count": 15,
   "metadata": {},
   "outputs": [],
   "source": [
    "# Other tuple variables\n",
    "\n",
    "some_tuple = (99, gx(2), fx, \"string in tuple\")"
   ]
  },
  {
   "cell_type": "code",
   "execution_count": 16,
   "metadata": {},
   "outputs": [
    {
     "name": "stdout",
     "output_type": "stream",
     "text": [
      "99\n",
      "15\n",
      "<function fx at 0x10dc36830>\n",
      "string in tuple\n"
     ]
    }
   ],
   "source": [
    "print(some_tuple[0])\n",
    "print(some_tuple[1])\n",
    "print(some_tuple[2])\n",
    "print(some_tuple[3])"
   ]
  },
  {
   "cell_type": "code",
   "execution_count": 56,
   "metadata": {},
   "outputs": [
    {
     "name": "stdout",
     "output_type": "stream",
     "text": [
      "value1\n",
      "77\n",
      "Roi-Et\n"
     ]
    }
   ],
   "source": [
    "some_dict = {\"key1\": \"value1\",\n",
    "             \"random_number\": 77,\n",
    "             101: \"Roi-Et\"}\n",
    "\n",
    "\n",
    "print(some_dict['key1'])\n",
    "print(some_dict['random_number'])\n",
    "print(some_dict[101])"
   ]
  },
  {
   "cell_type": "code",
   "execution_count": 18,
   "metadata": {},
   "outputs": [],
   "source": [
    "# Energy conservation rule\n",
    "\n",
    "#energy = 1/2*mv^2 + mgh\n",
    "\n",
    "m = 20 # kg\n",
    "v = 5 # m/sec\n",
    "g = 9.8 # m/v/v\n",
    "h = 7 # m\n",
    "\n",
    "# energy? "
   ]
  },
  {
   "cell_type": "code",
   "execution_count": 19,
   "metadata": {},
   "outputs": [
    {
     "ename": "SyntaxError",
     "evalue": "invalid syntax (978393171.py, line 1)",
     "output_type": "error",
     "traceback": [
      "\u001b[0;36m  Cell \u001b[0;32mIn[19], line 1\u001b[0;36m\u001b[0m\n\u001b[0;31m    def calc_energy(???):\u001b[0m\n\u001b[0m                    ^\u001b[0m\n\u001b[0;31mSyntaxError\u001b[0m\u001b[0;31m:\u001b[0m invalid syntax\n"
     ]
    }
   ],
   "source": [
    "def calc_energy(???):\n",
    "    \n",
    "    ...\n",
    "    \n",
    "    return ???\n"
   ]
  },
  {
   "cell_type": "code",
   "execution_count": 20,
   "metadata": {},
   "outputs": [
    {
     "ename": "SyntaxError",
     "evalue": "f-string: invalid syntax (1096267716.py, line 1)",
     "output_type": "error",
     "traceback": [
      "\u001b[0;36m  Cell \u001b[0;32mIn[20], line 1\u001b[0;36m\u001b[0m\n\u001b[0;31m    print(f'Energy is: {calc_energy(???)} KJ')\u001b[0m\n\u001b[0m                 ^\u001b[0m\n\u001b[0;31mSyntaxError\u001b[0m\u001b[0;31m:\u001b[0m f-string: invalid syntax\n"
     ]
    }
   ],
   "source": [
    "print(f'Energy is: {calc_energy(???)} KJ')"
   ]
  },
  {
   "cell_type": "code",
   "execution_count": 21,
   "metadata": {},
   "outputs": [],
   "source": [
    "countries = ['Thailand', 'England', 'USA', 'Japan']"
   ]
  },
  {
   "cell_type": "code",
   "execution_count": 22,
   "metadata": {},
   "outputs": [
    {
     "name": "stdout",
     "output_type": "stream",
     "text": [
      "Thailand\n",
      "England\n",
      "USA\n",
      "Japan\n"
     ]
    }
   ],
   "source": [
    "for country in countries:\n",
    "    \n",
    "    print(country)"
   ]
  },
  {
   "cell_type": "code",
   "execution_count": 23,
   "metadata": {},
   "outputs": [
    {
     "name": "stdout",
     "output_type": "stream",
     "text": [
      "Thailand is index 0\n",
      "England is index 1\n",
      "USA is index 2\n",
      "Japan is index 3\n"
     ]
    }
   ],
   "source": [
    "for index, country in enumerate(countries):\n",
    "    \n",
    "    print(f'{country} is index {index}')"
   ]
  },
  {
   "cell_type": "code",
   "execution_count": 24,
   "metadata": {},
   "outputs": [],
   "source": [
    "nationalities = ['Thai', 'English', 'American', 'Japanese']"
   ]
  },
  {
   "cell_type": "code",
   "execution_count": 25,
   "metadata": {},
   "outputs": [
    {
     "name": "stdout",
     "output_type": "stream",
     "text": [
      "people in Thailand is Thai\n",
      "people in England is English\n",
      "people in USA is American\n",
      "people in Japan is Japanese\n"
     ]
    }
   ],
   "source": [
    "for country, nationality in zip(countries, nationalities):\n",
    "    \n",
    "    print(f'people in {country} is {nationality}')"
   ]
  },
  {
   "cell_type": "markdown",
   "metadata": {},
   "source": [
    "## Mathematic Calculation in Linear Algebra\n",
    "\n",
    "This helps more understanding about mathematical operations in more easier rather using straight tuple vairable when dealing with multi-dimensional data structures. For example, a dataset can have sample axis, feature axis, time sequence axis in which represent in many dimension of data"
   ]
  },
  {
   "cell_type": "code",
   "execution_count": 19,
   "metadata": {},
   "outputs": [],
   "source": [
    "import numpy as np\n",
    "\n",
    "np.set_printoptions(suppress=True, precision=3)"
   ]
  },
  {
   "cell_type": "markdown",
   "metadata": {},
   "source": [
    "__Algebra Basic__\n",
    "<br>\n",
    "- _scalar_: a single number (e.g. value) <br>\n",
    "- _vector_: Sequential 1-D numbers represent direction and length of each feature (e.g. Spectral colors R G B etc.) <br>\n",
    "- _matrix_: Tabular-like 2-D numbers represent values of interested object (e.g. sample, count)) <br>\n",
    "- _tensor_: multi-dimensional number extensing from length and direction such as time and spatial (e.g. time, spatial window) <br>\n",
    "\n",
    "![](https://miro.medium.com/v2/resize:fit:1008/1*tN5uOe_VdzFcNpRcYFeMqQ.jpeg)"
   ]
  },
  {
   "cell_type": "code",
   "execution_count": 20,
   "metadata": {},
   "outputs": [],
   "source": [
    "scalar = 7\n",
    "vector = [3, 6, 7]\n",
    "matrix = [[1, 5, 0, 2],\n",
    "          [8, 2, 9, 6],\n",
    "          [7, 6, 3, 4]]"
   ]
  },
  {
   "cell_type": "markdown",
   "metadata": {},
   "source": [
    "Scalar and Vector are simply single value and list of scalar composing more dimension of number. Matrix and 2-D representation of multi-dimensionality that we can represent in readable format.\n",
    "\n",
    "<br>\n",
    "\n",
    "to access the data in matrix, we call `[idx]` after the variable"
   ]
  },
  {
   "cell_type": "code",
   "execution_count": 21,
   "metadata": {},
   "outputs": [
    {
     "data": {
      "text/plain": [
       "5"
      ]
     },
     "execution_count": 21,
     "metadata": {},
     "output_type": "execute_result"
    }
   ],
   "source": [
    "matrix[0][1] # row 0 column 1"
   ]
  },
  {
   "cell_type": "markdown",
   "metadata": {},
   "source": [
    "To know dimension of matrix, use `len(x)` to show length of list"
   ]
  },
  {
   "cell_type": "code",
   "execution_count": 22,
   "metadata": {},
   "outputs": [
    {
     "name": "stdout",
     "output_type": "stream",
     "text": [
      "3\n",
      "4\n"
     ]
    }
   ],
   "source": [
    "print(len(matrix))\n",
    "print(len(matrix[0]))"
   ]
  },
  {
   "cell_type": "markdown",
   "metadata": {},
   "source": [
    "However, It is more difficult to read and guess the dimension of matrix. We employ `numpy` tool to convert to numpy array type variable for more capability"
   ]
  },
  {
   "cell_type": "code",
   "execution_count": 23,
   "metadata": {},
   "outputs": [
    {
     "data": {
      "text/plain": [
       "array([[1, 5, 0, 2],\n",
       "       [8, 2, 9, 6],\n",
       "       [7, 6, 3, 4]])"
      ]
     },
     "execution_count": 23,
     "metadata": {},
     "output_type": "execute_result"
    }
   ],
   "source": [
    "np_matrix = np.asarray(matrix)\n",
    "np_matrix"
   ]
  },
  {
   "cell_type": "markdown",
   "metadata": {},
   "source": [
    "This matrix represents dataset has 3 samples and 4 features\n",
    "\n",
    "|  | f0 | f1 | f2 | f3 |\n",
    "|---|---|---|---|---|\n",
    "| s0 | 1 | 5 | 0 | 2 |\n",
    "| s1 | 8 | 2 | 9 | 6 |\n",
    "| s2 | 7 | 6 | 3 | 4 |\n",
    "\n",
    "that more easier to access value and shape of data"
   ]
  },
  {
   "cell_type": "code",
   "execution_count": 24,
   "metadata": {},
   "outputs": [
    {
     "name": "stdout",
     "output_type": "stream",
     "text": [
      "value in row 0, colum 3 ->  2\n",
      "shape of matrix -> (3, 4)\n"
     ]
    }
   ],
   "source": [
    "print('value in row 0, colum 3 -> ', np_matrix[0][3])\n",
    "\n",
    "print('shape of matrix ->' , np_matrix.shape)"
   ]
  },
  {
   "cell_type": "markdown",
   "metadata": {},
   "source": [
    "Linear algebra equation\n",
    "\n",
    "$$\n",
    "\n",
    "y = m*x +c\n",
    "\n",
    "\n",
    "\n",
    "$$\n",
    "\n",
    "extend to\n",
    "\n",
    "$$\n",
    "fx(x) = w_1x_1 + w_2x_2 + w_3x_3 + w_4x_4 + w_nx_n + b\n",
    "$$\n",
    "\n",
    "or\n",
    "\n",
    "$$\n",
    "fx(x) = W^TX + b\n",
    "$$\n",
    "\n",
    "in ML ways we usally use this to show in hypothesis function\n",
    "\n",
    "$$\n",
    "h_\\theta(x) = \\theta_0 + \\theta_1x\n",
    "$$\n",
    "\n",
    "All are same thing referring to linear algebra\n"
   ]
  },
  {
   "cell_type": "code",
   "execution_count": 28,
   "metadata": {},
   "outputs": [
    {
     "name": "stdout",
     "output_type": "stream",
     "text": [
      "X matrix: \n",
      " [[1 5 0 2]\n",
      " [8 2 9 6]\n",
      " [7 6 3 4]]\n",
      "\n",
      " theta vector: \n",
      " [0.5 0.7 1.2 0.9]\n",
      "\n",
      " bias term: \n",
      " [5]\n"
     ]
    }
   ],
   "source": [
    "X = np_matrix.copy()\n",
    "W = np.array([0.5, 0.7, 1.2, 0.9])\n",
    "b = np.array([5])\n",
    "\n",
    "print('X matrix: \\n',X)\n",
    "print('\\n theta vector: \\n', W)\n",
    "print('\\n bias term: \\n',b)"
   ]
  },
  {
   "cell_type": "markdown",
   "metadata": {},
   "source": [
    "\n",
    "![](https://lh3.googleusercontent.com/ThNU3UAuMF1OBCxP4TkVf5kwrs88bb4ncH1-KQgv69_1Mw_rBfgKYDG1f8XsOWMSRmaapKFMvHFMDAFh1GmlMBw3uA9307Yk8fxMe9s4CriMyqtvrZLoQB1LMAAbQLbDKgY5P3Gt)"
   ]
  },
  {
   "cell_type": "code",
   "execution_count": 32,
   "metadata": {},
   "outputs": [
    {
     "data": {
      "text/plain": [
       "array([10.8, 26.6, 19.9])"
      ]
     },
     "execution_count": 32,
     "metadata": {},
     "output_type": "execute_result"
    }
   ],
   "source": [
    "y = X @ W + b #  X dot W + b, equal to np.matmul(X, W) +b\n",
    "\n",
    "y"
   ]
  },
  {
   "cell_type": "markdown",
   "metadata": {},
   "source": [
    "As mentioned above, output of vectorized operations are results of each row (samples). This is more good in case we have more samples which takes longer computation time than looping over list variables\n",
    "\n",
    "<br><br>\n",
    "\n",
    "Additionally, this is more advanced to create tensor which we could not illustrate in tabular form like previous. For example,"
   ]
  },
  {
   "cell_type": "code",
   "execution_count": 33,
   "metadata": {},
   "outputs": [
    {
     "data": {
      "text/plain": [
       "(3, 5, 6)"
      ]
     },
     "execution_count": 33,
     "metadata": {},
     "output_type": "execute_result"
    }
   ],
   "source": [
    "a = np.random.randint(low=15000, high=25000, size=(3,5,6))\n",
    "a.shape"
   ]
  },
  {
   "cell_type": "markdown",
   "metadata": {},
   "source": [
    "The shape of `a` tensor has 3-dimension that we have to rely on showing individual matrix instead of show 3D matrix"
   ]
  },
  {
   "cell_type": "code",
   "execution_count": 35,
   "metadata": {},
   "outputs": [
    {
     "name": "stdout",
     "output_type": "stream",
     "text": [
      "[[23296 23499 23768 21579 23668 17300]\n",
      " [22137 18370 24785 21239 21437 19885]\n",
      " [15142 23977 22608 20163 20361 18527]\n",
      " [21074 23236 18450 19546 20384 19994]\n",
      " [23575 18187 23957 21303 15460 24673]] (0, *, *)\n",
      "[[24119 23556 16227 17395 21225 22083]\n",
      " [22318 23453 17003 21646 21553 19545]\n",
      " [23534 23708 19312 18072 20056 23671]\n",
      " [24652 24787 19574 22504 15344 17481]\n",
      " [18466 23944 16557 18450 16858 17975]] (1, *, *)\n",
      "[[18640 16189 22989 21961 23594 16774]\n",
      " [24060 17929 19984 19003 15363 22858]\n",
      " [22190 21324 23819 21668 15792 18218]\n",
      " [21484 21626 19180 22026 16213 18300]\n",
      " [22381 23894 22566 24908 22093 16242]] (2, *, *)\n"
     ]
    }
   ],
   "source": [
    "print(a[0], '(0, *, *)')\n",
    "print(a[1], '(1, *, *)')\n",
    "print(a[2], '(2, *, *)')"
   ]
  },
  {
   "cell_type": "markdown",
   "metadata": {},
   "source": [
    "Suppose above tensor is like satellite image which has 3 bands, 5 height, 6 width. To access a pixel at index 2,2 by every bands we can call"
   ]
  },
  {
   "cell_type": "code",
   "execution_count": 36,
   "metadata": {},
   "outputs": [
    {
     "data": {
      "text/plain": [
       "array([22608, 19312, 23819])"
      ]
     },
     "execution_count": 36,
     "metadata": {},
     "output_type": "execute_result"
    }
   ],
   "source": [
    "a[:, 2, 2]"
   ]
  },
  {
   "cell_type": "markdown",
   "metadata": {},
   "source": [
    "In general calculation of satellite image, we usually use a band-level data calculation. For example band A to calculate reflectance from Digital number of data such as landsat formula\n",
    "\n",
    "$$\n",
    "Reflectance = DN * 0.0000275 - 0.2\n",
    "$$\n",
    "\n",
    "we can make the formula to be a function like"
   ]
  },
  {
   "cell_type": "code",
   "execution_count": 37,
   "metadata": {},
   "outputs": [],
   "source": [
    "def reflectance_calc(x):\n",
    "    \n",
    "    return x * 0.0000275 - 0.2"
   ]
  },
  {
   "cell_type": "markdown",
   "metadata": {},
   "source": [
    "We can write as lambda function as"
   ]
  },
  {
   "cell_type": "code",
   "execution_count": 38,
   "metadata": {},
   "outputs": [],
   "source": [
    "refl_calc = lambda x: x * 0.0000275 - 0.2"
   ]
  },
  {
   "cell_type": "markdown",
   "metadata": {},
   "source": [
    "to implement band-level calculation, pass the band numpy array data to the function\n",
    "\n",
    "![](https://pages.cms.hu-berlin.de/EOL/geo_rs/fig/s00_array_scaling.png)"
   ]
  },
  {
   "cell_type": "code",
   "execution_count": 40,
   "metadata": {},
   "outputs": [
    {
     "data": {
      "text/plain": [
       "array([[0.441, 0.446, 0.454, 0.393, 0.451, 0.276],\n",
       "       [0.409, 0.305, 0.482, 0.384, 0.39 , 0.347],\n",
       "       [0.216, 0.459, 0.422, 0.354, 0.36 , 0.309],\n",
       "       [0.38 , 0.439, 0.307, 0.338, 0.361, 0.35 ],\n",
       "       [0.448, 0.3  , 0.459, 0.386, 0.225, 0.479]])"
      ]
     },
     "execution_count": 40,
     "metadata": {},
     "output_type": "execute_result"
    }
   ],
   "source": [
    "reflectance_calc(a[0])"
   ]
  },
  {
   "cell_type": "markdown",
   "metadata": {},
   "source": [
    "Or use lambda function to calculate reflectance"
   ]
  },
  {
   "cell_type": "code",
   "execution_count": 41,
   "metadata": {},
   "outputs": [
    {
     "data": {
      "text/plain": [
       "array([[0.441, 0.446, 0.454, 0.393, 0.451, 0.276],\n",
       "       [0.409, 0.305, 0.482, 0.384, 0.39 , 0.347],\n",
       "       [0.216, 0.459, 0.422, 0.354, 0.36 , 0.309],\n",
       "       [0.38 , 0.439, 0.307, 0.338, 0.361, 0.35 ],\n",
       "       [0.448, 0.3  , 0.459, 0.386, 0.225, 0.479]])"
      ]
     },
     "execution_count": 41,
     "metadata": {},
     "output_type": "execute_result"
    }
   ],
   "source": [
    "refl_calc(a[0])"
   ]
  },
  {
   "cell_type": "markdown",
   "metadata": {},
   "source": [
    "Same way, suppose there are 2 bands to calculate ND..I like (Normalized Difference)\n",
    "\n"
   ]
  },
  {
   "cell_type": "code",
   "execution_count": 42,
   "metadata": {},
   "outputs": [
    {
     "data": {
      "text/plain": [
       "array([[-0.017, -0.001,  0.189,  0.107,  0.054, -0.121],\n",
       "       [-0.004, -0.122,  0.186, -0.009, -0.003,  0.009],\n",
       "       [-0.217,  0.006,  0.079,  0.055,  0.008, -0.122],\n",
       "       [-0.078, -0.032, -0.03 , -0.07 ,  0.141,  0.067],\n",
       "       [ 0.122, -0.137,  0.183,  0.072, -0.043,  0.157]])"
      ]
     },
     "execution_count": 42,
     "metadata": {},
     "output_type": "execute_result"
    }
   ],
   "source": [
    "(a[0] - a[1]) / (a[0] + a[1])"
   ]
  },
  {
   "cell_type": "markdown",
   "metadata": {},
   "source": [
    "This is a basic of raster calculation using numpy by matrix (or tensor) data math. Next section is to actual raster data exploration and some Machine Learning part"
   ]
  },
  {
   "cell_type": "code",
   "execution_count": null,
   "metadata": {},
   "outputs": [],
   "source": []
  }
 ],
 "metadata": {
  "kernelspec": {
   "display_name": "ttg-tes",
   "language": "python",
   "name": "python3"
  },
  "language_info": {
   "codemirror_mode": {
    "name": "ipython",
    "version": 3
   },
   "file_extension": ".py",
   "mimetype": "text/x-python",
   "name": "python",
   "nbconvert_exporter": "python",
   "pygments_lexer": "ipython3",
   "version": "3.10.15"
  }
 },
 "nbformat": 4,
 "nbformat_minor": 2
}
